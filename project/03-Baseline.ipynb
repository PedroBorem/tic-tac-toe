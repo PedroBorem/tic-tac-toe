{
 "cells": [
  {
   "cell_type": "markdown",
   "metadata": {},
   "source": [
    "# 03 - Baseline Model"
   ]
  },
  {
   "cell_type": "markdown",
   "metadata": {},
   "source": [
    "## Setup"
   ]
  },
  {
   "cell_type": "code",
   "execution_count": 65,
   "metadata": {},
   "outputs": [],
   "source": [
    "import pandas as pd\n",
    "import numpy as np\n",
    "import matplotlib.pyplot as plt\n",
    "import seaborn as sns\n",
    "\n",
    "from IPython.display import display, Markdown\n",
    "\n",
    "sns.set(style=\"darkgrid\")\n",
    "pd.set_option('display.max_columns', None)  \n",
    "\n",
    "import sys, os, yaml\n",
    "\n",
    "DATASET = \"Tic-Tac-Toe\"\n",
    "COLAB = 'google.colab' in sys.modules\n",
    "\n",
    "DEBUG = False\n",
    "SEED = 666"
   ]
  },
  {
   "cell_type": "code",
   "execution_count": 66,
   "metadata": {},
   "outputs": [],
   "source": [
    "COLAB = 'google.colab' in sys.modules\n",
    "\n",
    "if COLAB:\n",
    "  from google.colab import drive\n",
    "  if not os.path.isdir(\"/content/gdrive\"):\n",
    "    drive.mount(\"/content/gdrive\")\n",
    "    d = \"/content/gdrive/MyDrive/datasets\"\n",
    "    if not os.path.isdir(ROOT+d): os.makedirs(ROOT+d)\n",
    "  ROOT = f\"/content/gdrive/MyDrive/datasets/{DATASET.replace(' ','_')}/\"\n",
    "  if not os.path.isdir(ROOT): os.makedirs(ROOT)\n",
    "else:\n",
    "  ROOT = \"./\"\n",
    "\n",
    "def makedirs(d):\n",
    "  if COLAB:\n",
    "    if not os.path.isdir(ROOT+d): os.makedirs(ROOT+d)\n",
    "  else:\n",
    "    if not os.path.isdir(ROOT+d): os.makedirs(ROOT+d, mode=0o777, exist_ok=True)\n",
    "\n",
    "for d in ['orig','data','output']: makedirs(d)"
   ]
  },
  {
   "cell_type": "markdown",
   "metadata": {},
   "source": [
    "## Load Dataset"
   ]
  },
  {
   "cell_type": "code",
   "execution_count": 67,
   "metadata": {},
   "outputs": [
    {
     "name": "stdout",
     "output_type": "stream",
     "text": [
      "(958, 10)\n"
     ]
    },
    {
     "data": {
      "text/html": [
       "<div>\n",
       "<style scoped>\n",
       "    .dataframe tbody tr th:only-of-type {\n",
       "        vertical-align: middle;\n",
       "    }\n",
       "\n",
       "    .dataframe tbody tr th {\n",
       "        vertical-align: top;\n",
       "    }\n",
       "\n",
       "    .dataframe thead th {\n",
       "        text-align: right;\n",
       "    }\n",
       "</style>\n",
       "<table border=\"1\" class=\"dataframe\">\n",
       "  <thead>\n",
       "    <tr style=\"text-align: right;\">\n",
       "      <th></th>\n",
       "      <th>Top-left-square</th>\n",
       "      <th>Top-middle-square</th>\n",
       "      <th>Top-right-square</th>\n",
       "      <th>Middle-left-square</th>\n",
       "      <th>Middle-middle-square</th>\n",
       "      <th>Middle-right-square</th>\n",
       "      <th>Bottom-left-square</th>\n",
       "      <th>Bottom-middle-square</th>\n",
       "      <th>Bottom-right-square</th>\n",
       "      <th>Score</th>\n",
       "    </tr>\n",
       "  </thead>\n",
       "  <tbody>\n",
       "    <tr>\n",
       "      <th>0</th>\n",
       "      <td>1</td>\n",
       "      <td>1</td>\n",
       "      <td>1</td>\n",
       "      <td>1</td>\n",
       "      <td>-1</td>\n",
       "      <td>-1</td>\n",
       "      <td>1</td>\n",
       "      <td>-1</td>\n",
       "      <td>-1</td>\n",
       "      <td>1</td>\n",
       "    </tr>\n",
       "    <tr>\n",
       "      <th>1</th>\n",
       "      <td>1</td>\n",
       "      <td>1</td>\n",
       "      <td>1</td>\n",
       "      <td>1</td>\n",
       "      <td>-1</td>\n",
       "      <td>-1</td>\n",
       "      <td>-1</td>\n",
       "      <td>1</td>\n",
       "      <td>-1</td>\n",
       "      <td>1</td>\n",
       "    </tr>\n",
       "    <tr>\n",
       "      <th>2</th>\n",
       "      <td>1</td>\n",
       "      <td>1</td>\n",
       "      <td>1</td>\n",
       "      <td>1</td>\n",
       "      <td>-1</td>\n",
       "      <td>-1</td>\n",
       "      <td>-1</td>\n",
       "      <td>-1</td>\n",
       "      <td>1</td>\n",
       "      <td>1</td>\n",
       "    </tr>\n",
       "    <tr>\n",
       "      <th>3</th>\n",
       "      <td>1</td>\n",
       "      <td>1</td>\n",
       "      <td>1</td>\n",
       "      <td>1</td>\n",
       "      <td>-1</td>\n",
       "      <td>-1</td>\n",
       "      <td>-1</td>\n",
       "      <td>0</td>\n",
       "      <td>0</td>\n",
       "      <td>1</td>\n",
       "    </tr>\n",
       "    <tr>\n",
       "      <th>4</th>\n",
       "      <td>1</td>\n",
       "      <td>1</td>\n",
       "      <td>1</td>\n",
       "      <td>1</td>\n",
       "      <td>-1</td>\n",
       "      <td>-1</td>\n",
       "      <td>0</td>\n",
       "      <td>-1</td>\n",
       "      <td>0</td>\n",
       "      <td>1</td>\n",
       "    </tr>\n",
       "  </tbody>\n",
       "</table>\n",
       "</div>"
      ],
      "text/plain": [
       "  Top-left-square Top-middle-square Top-right-square Middle-left-square  \\\n",
       "0               1                 1                1                  1   \n",
       "1               1                 1                1                  1   \n",
       "2               1                 1                1                  1   \n",
       "3               1                 1                1                  1   \n",
       "4               1                 1                1                  1   \n",
       "\n",
       "  Middle-middle-square Middle-right-square Bottom-left-square  \\\n",
       "0                   -1                  -1                  1   \n",
       "1                   -1                  -1                 -1   \n",
       "2                   -1                  -1                 -1   \n",
       "3                   -1                  -1                 -1   \n",
       "4                   -1                  -1                  0   \n",
       "\n",
       "  Bottom-middle-square Bottom-right-square Score  \n",
       "0                   -1                  -1     1  \n",
       "1                    1                  -1     1  \n",
       "2                   -1                   1     1  \n",
       "3                    0                   0     1  \n",
       "4                   -1                   0     1  "
      ]
     },
     "execution_count": 67,
     "metadata": {},
     "output_type": "execute_result"
    }
   ],
   "source": [
    "df = pd.read_pickle(f\"{ROOT}/data/data.pkl\")\n",
    "print(df.shape)\n",
    "df.head()"
   ]
  },
  {
   "cell_type": "markdown",
   "metadata": {},
   "source": [
    "## Preprocessing Data"
   ]
  },
  {
   "cell_type": "code",
   "execution_count": 68,
   "metadata": {},
   "outputs": [
    {
     "name": "stdout",
     "output_type": "stream",
     "text": [
      "target = Score\n",
      "\n",
      "Categorical features (9): ['Top-left-square', 'Top-middle-square', 'Top-right-square', 'Middle-left-square', 'Middle-middle-square', 'Middle-right-square', 'Bottom-left-square', 'Bottom-middle-square', 'Bottom-right-square']\n"
     ]
    }
   ],
   "source": [
    "target = \"Score\"\n",
    "print(f\"target = {target}\")\n",
    "\n",
    "cat_features = [c for c in df.select_dtypes(\"category\").columns if c!= target]\n",
    "print(f\"\\nCategorical features ({len(cat_features)}): {cat_features}\")\n"
   ]
  },
  {
   "cell_type": "code",
   "execution_count": 69,
   "metadata": {},
   "outputs": [],
   "source": [
    "X = df[cat_features]\n",
    "y = df[target]"
   ]
  },
  {
   "cell_type": "markdown",
   "metadata": {},
   "source": [
    "## Train/Test Split"
   ]
  },
  {
   "cell_type": "code",
   "execution_count": 70,
   "metadata": {},
   "outputs": [
    {
     "data": {
      "text/plain": [
       "Score\n",
       "1     0.653445\n",
       "-1    0.346555\n",
       "Name: proportion, dtype: float64"
      ]
     },
     "execution_count": 70,
     "metadata": {},
     "output_type": "execute_result"
    }
   ],
   "source": [
    "y.value_counts(normalize=True)"
   ]
  },
  {
   "cell_type": "code",
   "execution_count": 71,
   "metadata": {},
   "outputs": [
    {
     "name": "stdout",
     "output_type": "stream",
     "text": [
      "(766, 9) (192, 9)\n"
     ]
    },
    {
     "data": {
      "text/plain": [
       "Score\n",
       "1     0.653445\n",
       "-1    0.346555\n",
       "Name: proportion, dtype: float64"
      ]
     },
     "execution_count": 71,
     "metadata": {},
     "output_type": "execute_result"
    }
   ],
   "source": [
    "from sklearn.model_selection import train_test_split, GridSearchCV\n",
    "\n",
    "X_train,X_test,y_train,y_test = train_test_split(X,y, train_size=0.80, stratify=y, random_state=SEED)\n",
    "\n",
    "print(X_train.shape,X_test.shape)\n",
    "y.value_counts(normalize=True)"
   ]
  },
  {
   "cell_type": "markdown",
   "metadata": {},
   "source": [
    "## Eval Models"
   ]
  },
  {
   "cell_type": "code",
   "execution_count": 72,
   "metadata": {},
   "outputs": [],
   "source": [
    "from sklearn.neighbors import KNeighborsClassifier\n",
    "from sklearn.tree import DecisionTreeClassifier\n",
    "from sklearn.linear_model import Perceptron\n",
    "from sklearn.preprocessing import OneHotEncoder\n",
    "\n",
    "#ohe = OneHotEncoder()\n",
    "#ohe.fit(X_train)\n",
    "#X_train = ohe.transform(X_train)\n",
    "#X_test = ohe.transform(X_test)\n",
    "\n",
    "classifiers = {\n",
    "    \"KNN\" : KNeighborsClassifier(n_jobs=-1),\n",
    "    \"KNN(3)\" : KNeighborsClassifier(3,n_jobs=-1),\n",
    "    \"DT\" : DecisionTreeClassifier(max_features=9),\n",
    "    \"DT(max_depth=5)\" : DecisionTreeClassifier(max_depth=5,max_features=9),\n",
    "    \"Perceptron\" : Perceptron(n_jobs=-1),\n",
    "}"
   ]
  },
  {
   "cell_type": "code",
   "execution_count": 73,
   "metadata": {},
   "outputs": [],
   "source": [
    "from sklearn.metrics import accuracy_score, recall_score, precision_score, roc_auc_score, f1_score\n",
    "\n",
    "metrics = {\n",
    "    'accuracy' : accuracy_score,\n",
    "    'precision' : precision_score,\n",
    "    'recall' : recall_score,\n",
    "    'f1' : f1_score,\n",
    "    'roc_auc' : roc_auc_score,\n",
    "}"
   ]
  },
  {
   "cell_type": "code",
   "execution_count": 74,
   "metadata": {},
   "outputs": [
    {
     "name": "stdout",
     "output_type": "stream",
     "text": [
      "KNN ...\n"
     ]
    },
    {
     "name": "stdout",
     "output_type": "stream",
     "text": [
      "KNN(3) ...\n",
      "DT ...\n",
      "DT(max_depth=5) ...\n",
      "Perceptron ...\n",
      "(5, 11)\n"
     ]
    }
   ],
   "source": [
    "def generate_metrics():\n",
    "    \n",
    "    data = []\n",
    "    \n",
    "    for model_name, model in classifiers.items():\n",
    "        \n",
    "        print (f\"{model_name} ...\")\n",
    "        \n",
    "        row = {'Model': model_name}\n",
    "        model.fit(X_train, y_train)\n",
    "        \n",
    "        for metric_name, metric in metrics.items():\n",
    "            # Scoring on SEEN data - effectively \"useless\"\n",
    "            y_pred = model.predict(X_train)\n",
    "            row['train_'+metric_name] = metric(y_train, y_pred)\n",
    "        \n",
    "            # Scoring on UNSEEN data - important\n",
    "            y_pred = model.predict(X_test)\n",
    "            row['test_'+metric_name] = metric(y_test, y_pred)\n",
    "            \n",
    "        data.append(row)\n",
    "    return pd.DataFrame(data)\n",
    "\n",
    "df_results = generate_metrics()\n",
    "print(df_results.shape)"
   ]
  },
  {
   "cell_type": "code",
   "execution_count": 75,
   "metadata": {},
   "outputs": [
    {
     "data": {
      "text/html": [
       "<style type=\"text/css\">\n",
       "#T_3b64a_row0_col0, #T_3b64a_row1_col0, #T_3b64a_row2_col0, #T_3b64a_row3_col0, #T_3b64a_row4_col0 {\n",
       "  background-color: lightgreen;\n",
       "}\n",
       "#T_3b64a_row0_col1, #T_3b64a_row0_col2, #T_3b64a_row0_col5, #T_3b64a_row0_col6, #T_3b64a_row0_col9, #T_3b64a_row0_col10, #T_3b64a_row1_col1, #T_3b64a_row1_col2, #T_3b64a_row1_col5, #T_3b64a_row1_col6, #T_3b64a_row1_col9, #T_3b64a_row1_col10, #T_3b64a_row2_col1, #T_3b64a_row2_col2, #T_3b64a_row2_col5, #T_3b64a_row2_col6, #T_3b64a_row2_col9, #T_3b64a_row2_col10, #T_3b64a_row3_col1, #T_3b64a_row3_col2, #T_3b64a_row3_col5, #T_3b64a_row3_col6, #T_3b64a_row3_col9, #T_3b64a_row3_col10, #T_3b64a_row4_col1, #T_3b64a_row4_col2, #T_3b64a_row4_col5, #T_3b64a_row4_col6, #T_3b64a_row4_col9, #T_3b64a_row4_col10 {\n",
       "  background-color: lightblue;\n",
       "}\n",
       "#T_3b64a_row0_col3, #T_3b64a_row0_col4, #T_3b64a_row0_col7, #T_3b64a_row0_col8, #T_3b64a_row1_col3, #T_3b64a_row1_col4, #T_3b64a_row1_col7, #T_3b64a_row1_col8, #T_3b64a_row2_col3, #T_3b64a_row2_col4, #T_3b64a_row2_col7, #T_3b64a_row2_col8, #T_3b64a_row3_col3, #T_3b64a_row3_col4, #T_3b64a_row3_col7, #T_3b64a_row3_col8, #T_3b64a_row4_col3, #T_3b64a_row4_col4, #T_3b64a_row4_col7, #T_3b64a_row4_col8 {\n",
       "  background-color: lightyellow;\n",
       "}\n",
       "</style>\n",
       "<table id=\"T_3b64a\">\n",
       "  <thead>\n",
       "    <tr>\n",
       "      <th class=\"blank level0\" >&nbsp;</th>\n",
       "      <th id=\"T_3b64a_level0_col0\" class=\"col_heading level0 col0\" >Model</th>\n",
       "      <th id=\"T_3b64a_level0_col1\" class=\"col_heading level0 col1\" >train_accuracy</th>\n",
       "      <th id=\"T_3b64a_level0_col2\" class=\"col_heading level0 col2\" >test_accuracy</th>\n",
       "      <th id=\"T_3b64a_level0_col3\" class=\"col_heading level0 col3\" >train_precision</th>\n",
       "      <th id=\"T_3b64a_level0_col4\" class=\"col_heading level0 col4\" >test_precision</th>\n",
       "      <th id=\"T_3b64a_level0_col5\" class=\"col_heading level0 col5\" >train_recall</th>\n",
       "      <th id=\"T_3b64a_level0_col6\" class=\"col_heading level0 col6\" >test_recall</th>\n",
       "      <th id=\"T_3b64a_level0_col7\" class=\"col_heading level0 col7\" >train_f1</th>\n",
       "      <th id=\"T_3b64a_level0_col8\" class=\"col_heading level0 col8\" >test_f1</th>\n",
       "      <th id=\"T_3b64a_level0_col9\" class=\"col_heading level0 col9\" >train_roc_auc</th>\n",
       "      <th id=\"T_3b64a_level0_col10\" class=\"col_heading level0 col10\" >test_roc_auc</th>\n",
       "    </tr>\n",
       "  </thead>\n",
       "  <tbody>\n",
       "    <tr>\n",
       "      <th id=\"T_3b64a_level0_row0\" class=\"row_heading level0 row0\" >0</th>\n",
       "      <td id=\"T_3b64a_row0_col0\" class=\"data row0 col0\" >KNN</td>\n",
       "      <td id=\"T_3b64a_row0_col1\" class=\"data row0 col1\" >0.998695</td>\n",
       "      <td id=\"T_3b64a_row0_col2\" class=\"data row0 col2\" >0.994792</td>\n",
       "      <td id=\"T_3b64a_row0_col3\" class=\"data row0 col3\" >0.998008</td>\n",
       "      <td id=\"T_3b64a_row0_col4\" class=\"data row0 col4\" >0.992063</td>\n",
       "      <td id=\"T_3b64a_row0_col5\" class=\"data row0 col5\" >1.000000</td>\n",
       "      <td id=\"T_3b64a_row0_col6\" class=\"data row0 col6\" >1.000000</td>\n",
       "      <td id=\"T_3b64a_row0_col7\" class=\"data row0 col7\" >0.999003</td>\n",
       "      <td id=\"T_3b64a_row0_col8\" class=\"data row0 col8\" >0.996016</td>\n",
       "      <td id=\"T_3b64a_row0_col9\" class=\"data row0 col9\" >0.998113</td>\n",
       "      <td id=\"T_3b64a_row0_col10\" class=\"data row0 col10\" >0.992537</td>\n",
       "    </tr>\n",
       "    <tr>\n",
       "      <th id=\"T_3b64a_level0_row1\" class=\"row_heading level0 row1\" >1</th>\n",
       "      <td id=\"T_3b64a_row1_col0\" class=\"data row1 col0\" >KNN(3)</td>\n",
       "      <td id=\"T_3b64a_row1_col1\" class=\"data row1 col1\" >1.000000</td>\n",
       "      <td id=\"T_3b64a_row1_col2\" class=\"data row1 col2\" >1.000000</td>\n",
       "      <td id=\"T_3b64a_row1_col3\" class=\"data row1 col3\" >1.000000</td>\n",
       "      <td id=\"T_3b64a_row1_col4\" class=\"data row1 col4\" >1.000000</td>\n",
       "      <td id=\"T_3b64a_row1_col5\" class=\"data row1 col5\" >1.000000</td>\n",
       "      <td id=\"T_3b64a_row1_col6\" class=\"data row1 col6\" >1.000000</td>\n",
       "      <td id=\"T_3b64a_row1_col7\" class=\"data row1 col7\" >1.000000</td>\n",
       "      <td id=\"T_3b64a_row1_col8\" class=\"data row1 col8\" >1.000000</td>\n",
       "      <td id=\"T_3b64a_row1_col9\" class=\"data row1 col9\" >1.000000</td>\n",
       "      <td id=\"T_3b64a_row1_col10\" class=\"data row1 col10\" >1.000000</td>\n",
       "    </tr>\n",
       "    <tr>\n",
       "      <th id=\"T_3b64a_level0_row2\" class=\"row_heading level0 row2\" >2</th>\n",
       "      <td id=\"T_3b64a_row2_col0\" class=\"data row2 col0\" >DT</td>\n",
       "      <td id=\"T_3b64a_row2_col1\" class=\"data row2 col1\" >1.000000</td>\n",
       "      <td id=\"T_3b64a_row2_col2\" class=\"data row2 col2\" >0.958333</td>\n",
       "      <td id=\"T_3b64a_row2_col3\" class=\"data row2 col3\" >1.000000</td>\n",
       "      <td id=\"T_3b64a_row2_col4\" class=\"data row2 col4\" >0.960630</td>\n",
       "      <td id=\"T_3b64a_row2_col5\" class=\"data row2 col5\" >1.000000</td>\n",
       "      <td id=\"T_3b64a_row2_col6\" class=\"data row2 col6\" >0.976000</td>\n",
       "      <td id=\"T_3b64a_row2_col7\" class=\"data row2 col7\" >1.000000</td>\n",
       "      <td id=\"T_3b64a_row2_col8\" class=\"data row2 col8\" >0.968254</td>\n",
       "      <td id=\"T_3b64a_row2_col9\" class=\"data row2 col9\" >1.000000</td>\n",
       "      <td id=\"T_3b64a_row2_col10\" class=\"data row2 col10\" >0.950687</td>\n",
       "    </tr>\n",
       "    <tr>\n",
       "      <th id=\"T_3b64a_level0_row3\" class=\"row_heading level0 row3\" >3</th>\n",
       "      <td id=\"T_3b64a_row3_col0\" class=\"data row3 col0\" >DT(max_depth=5)</td>\n",
       "      <td id=\"T_3b64a_row3_col1\" class=\"data row3 col1\" >0.916449</td>\n",
       "      <td id=\"T_3b64a_row3_col2\" class=\"data row3 col2\" >0.869792</td>\n",
       "      <td id=\"T_3b64a_row3_col3\" class=\"data row3 col3\" >0.937876</td>\n",
       "      <td id=\"T_3b64a_row3_col4\" class=\"data row3 col4\" >0.884615</td>\n",
       "      <td id=\"T_3b64a_row3_col5\" class=\"data row3 col5\" >0.934132</td>\n",
       "      <td id=\"T_3b64a_row3_col6\" class=\"data row3 col6\" >0.920000</td>\n",
       "      <td id=\"T_3b64a_row3_col7\" class=\"data row3 col7\" >0.936000</td>\n",
       "      <td id=\"T_3b64a_row3_col8\" class=\"data row3 col8\" >0.901961</td>\n",
       "      <td id=\"T_3b64a_row3_col9\" class=\"data row3 col9\" >0.908575</td>\n",
       "      <td id=\"T_3b64a_row3_col10\" class=\"data row3 col10\" >0.848060</td>\n",
       "    </tr>\n",
       "    <tr>\n",
       "      <th id=\"T_3b64a_level0_row4\" class=\"row_heading level0 row4\" >4</th>\n",
       "      <td id=\"T_3b64a_row4_col0\" class=\"data row4 col0\" >Perceptron</td>\n",
       "      <td id=\"T_3b64a_row4_col1\" class=\"data row4 col1\" >0.983029</td>\n",
       "      <td id=\"T_3b64a_row4_col2\" class=\"data row4 col2\" >0.989583</td>\n",
       "      <td id=\"T_3b64a_row4_col3\" class=\"data row4 col3\" >0.974708</td>\n",
       "      <td id=\"T_3b64a_row4_col4\" class=\"data row4 col4\" >0.984252</td>\n",
       "      <td id=\"T_3b64a_row4_col5\" class=\"data row4 col5\" >1.000000</td>\n",
       "      <td id=\"T_3b64a_row4_col6\" class=\"data row4 col6\" >1.000000</td>\n",
       "      <td id=\"T_3b64a_row4_col7\" class=\"data row4 col7\" >0.987192</td>\n",
       "      <td id=\"T_3b64a_row4_col8\" class=\"data row4 col8\" >0.992063</td>\n",
       "      <td id=\"T_3b64a_row4_col9\" class=\"data row4 col9\" >0.975472</td>\n",
       "      <td id=\"T_3b64a_row4_col10\" class=\"data row4 col10\" >0.985075</td>\n",
       "    </tr>\n",
       "  </tbody>\n",
       "</table>\n"
      ],
      "text/plain": [
       "<pandas.io.formats.style.Styler at 0x19f450fa810>"
      ]
     },
     "execution_count": 75,
     "metadata": {},
     "output_type": "execute_result"
    }
   ],
   "source": [
    "def highlight_col(x):\n",
    "    model_color = 'background-color: lightgreen'\n",
    "    alt_color = ['background-color: lightblue','background-color: lightyellow']\n",
    "    \n",
    "    df1 = pd.DataFrame('', index=x.index, columns=x.columns)  \n",
    "    df1.iloc[:, 0] = model_color\n",
    "    for k in range (1,df.shape[1],2):\n",
    "        df1.iloc[:,k:k+2] = alt_color[(k//2)%2] \n",
    "    return df1 \n",
    "   \n",
    "df_results.style.apply(highlight_col, axis=None)"
   ]
  },
  {
   "cell_type": "markdown",
   "metadata": {},
   "source": [
    "KNN(3) já obtivemos 100% de precisão, accuracy e em outras métricas.... Não há necessidade de Hyperparameter Tunning, com gridSerach por exemplo..."
   ]
  },
  {
   "cell_type": "markdown",
   "metadata": {},
   "source": [
    "## Save Best Model"
   ]
  },
  {
   "cell_type": "markdown",
   "metadata": {},
   "source": [
    "### KNN(3)"
   ]
  },
  {
   "cell_type": "code",
   "execution_count": 76,
   "metadata": {},
   "outputs": [],
   "source": [
    "import joblib"
   ]
  },
  {
   "cell_type": "code",
   "execution_count": 77,
   "metadata": {},
   "outputs": [
    {
     "data": {
      "text/html": [
       "<style>#sk-container-id-2 {color: black;}#sk-container-id-2 pre{padding: 0;}#sk-container-id-2 div.sk-toggleable {background-color: white;}#sk-container-id-2 label.sk-toggleable__label {cursor: pointer;display: block;width: 100%;margin-bottom: 0;padding: 0.3em;box-sizing: border-box;text-align: center;}#sk-container-id-2 label.sk-toggleable__label-arrow:before {content: \"▸\";float: left;margin-right: 0.25em;color: #696969;}#sk-container-id-2 label.sk-toggleable__label-arrow:hover:before {color: black;}#sk-container-id-2 div.sk-estimator:hover label.sk-toggleable__label-arrow:before {color: black;}#sk-container-id-2 div.sk-toggleable__content {max-height: 0;max-width: 0;overflow: hidden;text-align: left;background-color: #f0f8ff;}#sk-container-id-2 div.sk-toggleable__content pre {margin: 0.2em;color: black;border-radius: 0.25em;background-color: #f0f8ff;}#sk-container-id-2 input.sk-toggleable__control:checked~div.sk-toggleable__content {max-height: 200px;max-width: 100%;overflow: auto;}#sk-container-id-2 input.sk-toggleable__control:checked~label.sk-toggleable__label-arrow:before {content: \"▾\";}#sk-container-id-2 div.sk-estimator input.sk-toggleable__control:checked~label.sk-toggleable__label {background-color: #d4ebff;}#sk-container-id-2 div.sk-label input.sk-toggleable__control:checked~label.sk-toggleable__label {background-color: #d4ebff;}#sk-container-id-2 input.sk-hidden--visually {border: 0;clip: rect(1px 1px 1px 1px);clip: rect(1px, 1px, 1px, 1px);height: 1px;margin: -1px;overflow: hidden;padding: 0;position: absolute;width: 1px;}#sk-container-id-2 div.sk-estimator {font-family: monospace;background-color: #f0f8ff;border: 1px dotted black;border-radius: 0.25em;box-sizing: border-box;margin-bottom: 0.5em;}#sk-container-id-2 div.sk-estimator:hover {background-color: #d4ebff;}#sk-container-id-2 div.sk-parallel-item::after {content: \"\";width: 100%;border-bottom: 1px solid gray;flex-grow: 1;}#sk-container-id-2 div.sk-label:hover label.sk-toggleable__label {background-color: #d4ebff;}#sk-container-id-2 div.sk-serial::before {content: \"\";position: absolute;border-left: 1px solid gray;box-sizing: border-box;top: 0;bottom: 0;left: 50%;z-index: 0;}#sk-container-id-2 div.sk-serial {display: flex;flex-direction: column;align-items: center;background-color: white;padding-right: 0.2em;padding-left: 0.2em;position: relative;}#sk-container-id-2 div.sk-item {position: relative;z-index: 1;}#sk-container-id-2 div.sk-parallel {display: flex;align-items: stretch;justify-content: center;background-color: white;position: relative;}#sk-container-id-2 div.sk-item::before, #sk-container-id-2 div.sk-parallel-item::before {content: \"\";position: absolute;border-left: 1px solid gray;box-sizing: border-box;top: 0;bottom: 0;left: 50%;z-index: -1;}#sk-container-id-2 div.sk-parallel-item {display: flex;flex-direction: column;z-index: 1;position: relative;background-color: white;}#sk-container-id-2 div.sk-parallel-item:first-child::after {align-self: flex-end;width: 50%;}#sk-container-id-2 div.sk-parallel-item:last-child::after {align-self: flex-start;width: 50%;}#sk-container-id-2 div.sk-parallel-item:only-child::after {width: 0;}#sk-container-id-2 div.sk-dashed-wrapped {border: 1px dashed gray;margin: 0 0.4em 0.5em 0.4em;box-sizing: border-box;padding-bottom: 0.4em;background-color: white;}#sk-container-id-2 div.sk-label label {font-family: monospace;font-weight: bold;display: inline-block;line-height: 1.2em;}#sk-container-id-2 div.sk-label-container {text-align: center;}#sk-container-id-2 div.sk-container {/* jupyter's `normalize.less` sets `[hidden] { display: none; }` but bootstrap.min.css set `[hidden] { display: none !important; }` so we also need the `!important` here to be able to override the default hidden behavior on the sphinx rendered scikit-learn.org. See: https://github.com/scikit-learn/scikit-learn/issues/21755 */display: inline-block !important;position: relative;}#sk-container-id-2 div.sk-text-repr-fallback {display: none;}</style><div id=\"sk-container-id-2\" class=\"sk-top-container\"><div class=\"sk-text-repr-fallback\"><pre>KNeighborsClassifier(n_jobs=-1, n_neighbors=3)</pre><b>In a Jupyter environment, please rerun this cell to show the HTML representation or trust the notebook. <br />On GitHub, the HTML representation is unable to render, please try loading this page with nbviewer.org.</b></div><div class=\"sk-container\" hidden><div class=\"sk-item\"><div class=\"sk-estimator sk-toggleable\"><input class=\"sk-toggleable__control sk-hidden--visually\" id=\"sk-estimator-id-2\" type=\"checkbox\" checked><label for=\"sk-estimator-id-2\" class=\"sk-toggleable__label sk-toggleable__label-arrow\">KNeighborsClassifier</label><div class=\"sk-toggleable__content\"><pre>KNeighborsClassifier(n_jobs=-1, n_neighbors=3)</pre></div></div></div></div></div>"
      ],
      "text/plain": [
       "KNeighborsClassifier(n_jobs=-1, n_neighbors=3)"
      ]
     },
     "execution_count": 77,
     "metadata": {},
     "output_type": "execute_result"
    }
   ],
   "source": [
    "knn3_model = KNeighborsClassifier(3,n_jobs=-1)\n",
    "knn3_model.fit(X_train, y_train)"
   ]
  },
  {
   "cell_type": "code",
   "execution_count": 78,
   "metadata": {},
   "outputs": [
    {
     "data": {
      "text/plain": [
       "['.//output/tic-tac-toe-model-data.joblib']"
      ]
     },
     "execution_count": 78,
     "metadata": {},
     "output_type": "execute_result"
    }
   ],
   "source": [
    "joblib.dump(knn3_model,f\"{ROOT}/output/tic-tac-toe-model-data.joblib\")"
   ]
  },
  {
   "cell_type": "markdown",
   "metadata": {},
   "source": [
    "# Treino no Dataset Modificado"
   ]
  },
  {
   "cell_type": "markdown",
   "metadata": {},
   "source": [
    "## Load Dataset"
   ]
  },
  {
   "cell_type": "code",
   "execution_count": 79,
   "metadata": {},
   "outputs": [
    {
     "name": "stdout",
     "output_type": "stream",
     "text": [
      "(5478, 10)\n"
     ]
    },
    {
     "data": {
      "text/html": [
       "<div>\n",
       "<style scoped>\n",
       "    .dataframe tbody tr th:only-of-type {\n",
       "        vertical-align: middle;\n",
       "    }\n",
       "\n",
       "    .dataframe tbody tr th {\n",
       "        vertical-align: top;\n",
       "    }\n",
       "\n",
       "    .dataframe thead th {\n",
       "        text-align: right;\n",
       "    }\n",
       "</style>\n",
       "<table border=\"1\" class=\"dataframe\">\n",
       "  <thead>\n",
       "    <tr style=\"text-align: right;\">\n",
       "      <th></th>\n",
       "      <th>Top-left-square</th>\n",
       "      <th>Top-middle-square</th>\n",
       "      <th>Top-right-square</th>\n",
       "      <th>Middle-left-square</th>\n",
       "      <th>Middle-middle-square</th>\n",
       "      <th>Middle-right-square</th>\n",
       "      <th>Bottom-left-square</th>\n",
       "      <th>Bottom-middle-square</th>\n",
       "      <th>Bottom-right-square</th>\n",
       "      <th>Score</th>\n",
       "    </tr>\n",
       "  </thead>\n",
       "  <tbody>\n",
       "    <tr>\n",
       "      <th>0</th>\n",
       "      <td>1</td>\n",
       "      <td>-1</td>\n",
       "      <td>1</td>\n",
       "      <td>1</td>\n",
       "      <td>0</td>\n",
       "      <td>0</td>\n",
       "      <td>0</td>\n",
       "      <td>0</td>\n",
       "      <td>-1</td>\n",
       "      <td>-1</td>\n",
       "    </tr>\n",
       "    <tr>\n",
       "      <th>1</th>\n",
       "      <td>1</td>\n",
       "      <td>1</td>\n",
       "      <td>-1</td>\n",
       "      <td>0</td>\n",
       "      <td>-1</td>\n",
       "      <td>-1</td>\n",
       "      <td>1</td>\n",
       "      <td>-1</td>\n",
       "      <td>1</td>\n",
       "      <td>1</td>\n",
       "    </tr>\n",
       "    <tr>\n",
       "      <th>2</th>\n",
       "      <td>0</td>\n",
       "      <td>1</td>\n",
       "      <td>0</td>\n",
       "      <td>0</td>\n",
       "      <td>0</td>\n",
       "      <td>0</td>\n",
       "      <td>1</td>\n",
       "      <td>-1</td>\n",
       "      <td>0</td>\n",
       "      <td>-1</td>\n",
       "    </tr>\n",
       "    <tr>\n",
       "      <th>3</th>\n",
       "      <td>1</td>\n",
       "      <td>0</td>\n",
       "      <td>-1</td>\n",
       "      <td>1</td>\n",
       "      <td>0</td>\n",
       "      <td>0</td>\n",
       "      <td>0</td>\n",
       "      <td>0</td>\n",
       "      <td>0</td>\n",
       "      <td>1</td>\n",
       "    </tr>\n",
       "    <tr>\n",
       "      <th>4</th>\n",
       "      <td>-1</td>\n",
       "      <td>1</td>\n",
       "      <td>-1</td>\n",
       "      <td>-1</td>\n",
       "      <td>1</td>\n",
       "      <td>-1</td>\n",
       "      <td>1</td>\n",
       "      <td>0</td>\n",
       "      <td>1</td>\n",
       "      <td>1</td>\n",
       "    </tr>\n",
       "  </tbody>\n",
       "</table>\n",
       "</div>"
      ],
      "text/plain": [
       "  Top-left-square Top-middle-square Top-right-square Middle-left-square  \\\n",
       "0               1                -1                1                  1   \n",
       "1               1                 1               -1                  0   \n",
       "2               0                 1                0                  0   \n",
       "3               1                 0               -1                  1   \n",
       "4              -1                 1               -1                 -1   \n",
       "\n",
       "  Middle-middle-square Middle-right-square Bottom-left-square  \\\n",
       "0                    0                   0                  0   \n",
       "1                   -1                  -1                  1   \n",
       "2                    0                   0                  1   \n",
       "3                    0                   0                  0   \n",
       "4                    1                  -1                  1   \n",
       "\n",
       "  Bottom-middle-square Bottom-right-square Score  \n",
       "0                    0                  -1    -1  \n",
       "1                   -1                   1     1  \n",
       "2                   -1                   0    -1  \n",
       "3                    0                   0     1  \n",
       "4                    0                   1     1  "
      ]
     },
     "execution_count": 79,
     "metadata": {},
     "output_type": "execute_result"
    }
   ],
   "source": [
    "df = pd.read_pickle(f\"{ROOT}/data/data_3.pkl\")\n",
    "print(df.shape)\n",
    "df.head()"
   ]
  },
  {
   "cell_type": "markdown",
   "metadata": {},
   "source": [
    "## Preprocessing Data"
   ]
  },
  {
   "cell_type": "code",
   "execution_count": 80,
   "metadata": {},
   "outputs": [
    {
     "name": "stdout",
     "output_type": "stream",
     "text": [
      "target = Score\n",
      "\n",
      "Categorical features (9): ['Top-left-square', 'Top-middle-square', 'Top-right-square', 'Middle-left-square', 'Middle-middle-square', 'Middle-right-square', 'Bottom-left-square', 'Bottom-middle-square', 'Bottom-right-square']\n"
     ]
    }
   ],
   "source": [
    "target = \"Score\"\n",
    "print(f\"target = {target}\")\n",
    "\n",
    "cat_features = [c for c in df.select_dtypes(\"category\").columns if c!= target]\n",
    "print(f\"\\nCategorical features ({len(cat_features)}): {cat_features}\")\n"
   ]
  },
  {
   "cell_type": "code",
   "execution_count": 81,
   "metadata": {},
   "outputs": [],
   "source": [
    "X = df[cat_features]\n",
    "y = df[target]"
   ]
  },
  {
   "cell_type": "markdown",
   "metadata": {},
   "source": [
    "## Train/Test Split"
   ]
  },
  {
   "cell_type": "code",
   "execution_count": 82,
   "metadata": {},
   "outputs": [
    {
     "data": {
      "text/plain": [
       "Score\n",
       "1     0.535962\n",
       "-1    0.464038\n",
       "Name: proportion, dtype: float64"
      ]
     },
     "execution_count": 82,
     "metadata": {},
     "output_type": "execute_result"
    }
   ],
   "source": [
    "y.value_counts(normalize=True)"
   ]
  },
  {
   "cell_type": "code",
   "execution_count": 83,
   "metadata": {},
   "outputs": [
    {
     "name": "stdout",
     "output_type": "stream",
     "text": [
      "(4382, 9) (1096, 9)\n"
     ]
    },
    {
     "data": {
      "text/plain": [
       "Score\n",
       "1     0.535962\n",
       "-1    0.464038\n",
       "Name: proportion, dtype: float64"
      ]
     },
     "execution_count": 83,
     "metadata": {},
     "output_type": "execute_result"
    }
   ],
   "source": [
    "from sklearn.model_selection import train_test_split, GridSearchCV\n",
    "\n",
    "X_train,X_test,y_train,y_test = train_test_split(X,y, train_size=0.80, test_size=0.20, stratify=y, random_state=SEED)\n",
    "\n",
    "print(X_train.shape,X_test.shape)\n",
    "y.value_counts(normalize=True)"
   ]
  },
  {
   "cell_type": "markdown",
   "metadata": {},
   "source": [
    "## Eval Models"
   ]
  },
  {
   "cell_type": "code",
   "execution_count": 84,
   "metadata": {},
   "outputs": [],
   "source": [
    "from sklearn.neighbors import KNeighborsClassifier\n",
    "from sklearn.tree import DecisionTreeClassifier\n",
    "from sklearn.linear_model import Perceptron\n",
    "from sklearn.preprocessing import OneHotEncoder\n",
    "\n",
    "#ohe = OneHotEncoder()\n",
    "#ohe.fit(X_train)\n",
    "#X_train = ohe.transform(X_train)\n",
    "#X_test = ohe.transform(X_test)\n",
    "\n",
    "classifiers = {\n",
    "    \"KNN\" : KNeighborsClassifier(n_jobs=-1),\n",
    "    \"KNN(3)\" : KNeighborsClassifier(3,n_jobs=-1),\n",
    "    \"DT\" : DecisionTreeClassifier(max_features=9),\n",
    "    \"DT(max_depth=5)\" : DecisionTreeClassifier(max_depth=5,max_features=9),\n",
    "    \"Perceptron\" : Perceptron(n_jobs=-1),\n",
    "}"
   ]
  },
  {
   "cell_type": "code",
   "execution_count": 85,
   "metadata": {},
   "outputs": [],
   "source": [
    "from sklearn.metrics import accuracy_score, recall_score, precision_score, roc_auc_score, f1_score\n",
    "\n",
    "metrics = {\n",
    "    'accuracy' : accuracy_score,\n",
    "    'precision' : precision_score,\n",
    "    'recall' : recall_score,\n",
    "    'f1' : f1_score,\n",
    "    'roc_auc' : roc_auc_score,\n",
    "}"
   ]
  },
  {
   "cell_type": "code",
   "execution_count": 86,
   "metadata": {},
   "outputs": [
    {
     "name": "stdout",
     "output_type": "stream",
     "text": [
      "KNN ...\n"
     ]
    },
    {
     "name": "stdout",
     "output_type": "stream",
     "text": [
      "KNN(3) ...\n",
      "DT ...\n",
      "DT(max_depth=5) ...\n",
      "Perceptron ...\n",
      "(5, 11)\n"
     ]
    }
   ],
   "source": [
    "def generate_metrics():\n",
    "    \n",
    "    data = []\n",
    "    \n",
    "    for model_name, model in classifiers.items():\n",
    "        \n",
    "        print (f\"{model_name} ...\")\n",
    "        \n",
    "        row = {'Model': model_name}\n",
    "        model.fit(X_train, y_train)\n",
    "        \n",
    "        for metric_name, metric in metrics.items():\n",
    "            # Scoring on SEEN data - effectively \"useless\"\n",
    "            y_pred = model.predict(X_train)\n",
    "            row['train_'+metric_name] = metric(y_train, y_pred)\n",
    "        \n",
    "            # Scoring on UNSEEN data - important\n",
    "            y_pred = model.predict(X_test)\n",
    "            row['test_'+metric_name] = metric(y_test, y_pred)\n",
    "            \n",
    "        data.append(row)\n",
    "    return pd.DataFrame(data)\n",
    "\n",
    "df_results = generate_metrics()\n",
    "print(df_results.shape)"
   ]
  },
  {
   "cell_type": "code",
   "execution_count": 87,
   "metadata": {},
   "outputs": [
    {
     "data": {
      "text/html": [
       "<style type=\"text/css\">\n",
       "#T_d5a20_row0_col0, #T_d5a20_row1_col0, #T_d5a20_row2_col0, #T_d5a20_row3_col0, #T_d5a20_row4_col0 {\n",
       "  background-color: lightgreen;\n",
       "}\n",
       "#T_d5a20_row0_col1, #T_d5a20_row0_col2, #T_d5a20_row0_col5, #T_d5a20_row0_col6, #T_d5a20_row0_col9, #T_d5a20_row0_col10, #T_d5a20_row1_col1, #T_d5a20_row1_col2, #T_d5a20_row1_col5, #T_d5a20_row1_col6, #T_d5a20_row1_col9, #T_d5a20_row1_col10, #T_d5a20_row2_col1, #T_d5a20_row2_col2, #T_d5a20_row2_col5, #T_d5a20_row2_col6, #T_d5a20_row2_col9, #T_d5a20_row2_col10, #T_d5a20_row3_col1, #T_d5a20_row3_col2, #T_d5a20_row3_col5, #T_d5a20_row3_col6, #T_d5a20_row3_col9, #T_d5a20_row3_col10, #T_d5a20_row4_col1, #T_d5a20_row4_col2, #T_d5a20_row4_col5, #T_d5a20_row4_col6, #T_d5a20_row4_col9, #T_d5a20_row4_col10 {\n",
       "  background-color: lightblue;\n",
       "}\n",
       "#T_d5a20_row0_col3, #T_d5a20_row0_col4, #T_d5a20_row0_col7, #T_d5a20_row0_col8, #T_d5a20_row1_col3, #T_d5a20_row1_col4, #T_d5a20_row1_col7, #T_d5a20_row1_col8, #T_d5a20_row2_col3, #T_d5a20_row2_col4, #T_d5a20_row2_col7, #T_d5a20_row2_col8, #T_d5a20_row3_col3, #T_d5a20_row3_col4, #T_d5a20_row3_col7, #T_d5a20_row3_col8, #T_d5a20_row4_col3, #T_d5a20_row4_col4, #T_d5a20_row4_col7, #T_d5a20_row4_col8 {\n",
       "  background-color: lightyellow;\n",
       "}\n",
       "</style>\n",
       "<table id=\"T_d5a20\">\n",
       "  <thead>\n",
       "    <tr>\n",
       "      <th class=\"blank level0\" >&nbsp;</th>\n",
       "      <th id=\"T_d5a20_level0_col0\" class=\"col_heading level0 col0\" >Model</th>\n",
       "      <th id=\"T_d5a20_level0_col1\" class=\"col_heading level0 col1\" >train_accuracy</th>\n",
       "      <th id=\"T_d5a20_level0_col2\" class=\"col_heading level0 col2\" >test_accuracy</th>\n",
       "      <th id=\"T_d5a20_level0_col3\" class=\"col_heading level0 col3\" >train_precision</th>\n",
       "      <th id=\"T_d5a20_level0_col4\" class=\"col_heading level0 col4\" >test_precision</th>\n",
       "      <th id=\"T_d5a20_level0_col5\" class=\"col_heading level0 col5\" >train_recall</th>\n",
       "      <th id=\"T_d5a20_level0_col6\" class=\"col_heading level0 col6\" >test_recall</th>\n",
       "      <th id=\"T_d5a20_level0_col7\" class=\"col_heading level0 col7\" >train_f1</th>\n",
       "      <th id=\"T_d5a20_level0_col8\" class=\"col_heading level0 col8\" >test_f1</th>\n",
       "      <th id=\"T_d5a20_level0_col9\" class=\"col_heading level0 col9\" >train_roc_auc</th>\n",
       "      <th id=\"T_d5a20_level0_col10\" class=\"col_heading level0 col10\" >test_roc_auc</th>\n",
       "    </tr>\n",
       "  </thead>\n",
       "  <tbody>\n",
       "    <tr>\n",
       "      <th id=\"T_d5a20_level0_row0\" class=\"row_heading level0 row0\" >0</th>\n",
       "      <td id=\"T_d5a20_row0_col0\" class=\"data row0 col0\" >KNN</td>\n",
       "      <td id=\"T_d5a20_row0_col1\" class=\"data row0 col1\" >0.711091</td>\n",
       "      <td id=\"T_d5a20_row0_col2\" class=\"data row0 col2\" >0.607664</td>\n",
       "      <td id=\"T_d5a20_row0_col3\" class=\"data row0 col3\" >0.732903</td>\n",
       "      <td id=\"T_d5a20_row0_col4\" class=\"data row0 col4\" >0.634188</td>\n",
       "      <td id=\"T_d5a20_row0_col5\" class=\"data row0 col5\" >0.725415</td>\n",
       "      <td id=\"T_d5a20_row0_col6\" class=\"data row0 col6\" >0.632027</td>\n",
       "      <td id=\"T_d5a20_row0_col7\" class=\"data row0 col7\" >0.729140</td>\n",
       "      <td id=\"T_d5a20_row0_col8\" class=\"data row0 col8\" >0.633106</td>\n",
       "      <td id=\"T_d5a20_row0_col9\" class=\"data row0 col9\" >0.709978</td>\n",
       "      <td id=\"T_d5a20_row0_col10\" class=\"data row0 col10\" >0.605798</td>\n",
       "    </tr>\n",
       "    <tr>\n",
       "      <th id=\"T_d5a20_level0_row1\" class=\"row_heading level0 row1\" >1</th>\n",
       "      <td id=\"T_d5a20_row1_col0\" class=\"data row1 col0\" >KNN(3)</td>\n",
       "      <td id=\"T_d5a20_row1_col1\" class=\"data row1 col1\" >0.793930</td>\n",
       "      <td id=\"T_d5a20_row1_col2\" class=\"data row1 col2\" >0.613139</td>\n",
       "      <td id=\"T_d5a20_row1_col3\" class=\"data row1 col3\" >0.821333</td>\n",
       "      <td id=\"T_d5a20_row1_col4\" class=\"data row1 col4\" >0.646847</td>\n",
       "      <td id=\"T_d5a20_row1_col5\" class=\"data row1 col5\" >0.786718</td>\n",
       "      <td id=\"T_d5a20_row1_col6\" class=\"data row1 col6\" >0.611584</td>\n",
       "      <td id=\"T_d5a20_row1_col7\" class=\"data row1 col7\" >0.803653</td>\n",
       "      <td id=\"T_d5a20_row1_col8\" class=\"data row1 col8\" >0.628722</td>\n",
       "      <td id=\"T_d5a20_row1_col9\" class=\"data row1 col9\" >0.794490</td>\n",
       "      <td id=\"T_d5a20_row1_col10\" class=\"data row1 col10\" >0.613258</td>\n",
       "    </tr>\n",
       "    <tr>\n",
       "      <th id=\"T_d5a20_level0_row2\" class=\"row_heading level0 row2\" >2</th>\n",
       "      <td id=\"T_d5a20_row2_col0\" class=\"data row2 col0\" >DT</td>\n",
       "      <td id=\"T_d5a20_row2_col1\" class=\"data row2 col1\" >1.000000</td>\n",
       "      <td id=\"T_d5a20_row2_col2\" class=\"data row2 col2\" >0.715328</td>\n",
       "      <td id=\"T_d5a20_row2_col3\" class=\"data row2 col3\" >1.000000</td>\n",
       "      <td id=\"T_d5a20_row2_col4\" class=\"data row2 col4\" >0.728027</td>\n",
       "      <td id=\"T_d5a20_row2_col5\" class=\"data row2 col5\" >1.000000</td>\n",
       "      <td id=\"T_d5a20_row2_col6\" class=\"data row2 col6\" >0.747871</td>\n",
       "      <td id=\"T_d5a20_row2_col7\" class=\"data row2 col7\" >1.000000</td>\n",
       "      <td id=\"T_d5a20_row2_col8\" class=\"data row2 col8\" >0.737815</td>\n",
       "      <td id=\"T_d5a20_row2_col9\" class=\"data row2 col9\" >1.000000</td>\n",
       "      <td id=\"T_d5a20_row2_col10\" class=\"data row2 col10\" >0.712835</td>\n",
       "    </tr>\n",
       "    <tr>\n",
       "      <th id=\"T_d5a20_level0_row3\" class=\"row_heading level0 row3\" >3</th>\n",
       "      <td id=\"T_d5a20_row3_col0\" class=\"data row3 col0\" >DT(max_depth=5)</td>\n",
       "      <td id=\"T_d5a20_row3_col1\" class=\"data row3 col1\" >0.671383</td>\n",
       "      <td id=\"T_d5a20_row3_col2\" class=\"data row3 col2\" >0.673358</td>\n",
       "      <td id=\"T_d5a20_row3_col3\" class=\"data row3 col3\" >0.685283</td>\n",
       "      <td id=\"T_d5a20_row3_col4\" class=\"data row3 col4\" >0.688633</td>\n",
       "      <td id=\"T_d5a20_row3_col5\" class=\"data row3 col5\" >0.715624</td>\n",
       "      <td id=\"T_d5a20_row3_col6\" class=\"data row3 col6\" >0.712095</td>\n",
       "      <td id=\"T_d5a20_row3_col7\" class=\"data row3 col7\" >0.700125</td>\n",
       "      <td id=\"T_d5a20_row3_col8\" class=\"data row3 col8\" >0.700168</td>\n",
       "      <td id=\"T_d5a20_row3_col9\" class=\"data row3 col9\" >0.667945</td>\n",
       "      <td id=\"T_d5a20_row3_col10\" class=\"data row3 col10\" >0.670390</td>\n",
       "    </tr>\n",
       "    <tr>\n",
       "      <th id=\"T_d5a20_level0_row4\" class=\"row_heading level0 row4\" >4</th>\n",
       "      <td id=\"T_d5a20_row4_col0\" class=\"data row4 col0\" >Perceptron</td>\n",
       "      <td id=\"T_d5a20_row4_col1\" class=\"data row4 col1\" >0.619352</td>\n",
       "      <td id=\"T_d5a20_row4_col2\" class=\"data row4 col2\" >0.610401</td>\n",
       "      <td id=\"T_d5a20_row4_col3\" class=\"data row4 col3\" >0.660386</td>\n",
       "      <td id=\"T_d5a20_row4_col4\" class=\"data row4 col4\" >0.652091</td>\n",
       "      <td id=\"T_d5a20_row4_col5\" class=\"data row4 col5\" >0.596850</td>\n",
       "      <td id=\"T_d5a20_row4_col6\" class=\"data row4 col6\" >0.584327</td>\n",
       "      <td id=\"T_d5a20_row4_col7\" class=\"data row4 col7\" >0.627013</td>\n",
       "      <td id=\"T_d5a20_row4_col8\" class=\"data row4 col8\" >0.616352</td>\n",
       "      <td id=\"T_d5a20_row4_col9\" class=\"data row4 col9\" >0.621101</td>\n",
       "      <td id=\"T_d5a20_row4_col10\" class=\"data row4 col10\" >0.612399</td>\n",
       "    </tr>\n",
       "  </tbody>\n",
       "</table>\n"
      ],
      "text/plain": [
       "<pandas.io.formats.style.Styler at 0x19f450ec310>"
      ]
     },
     "execution_count": 87,
     "metadata": {},
     "output_type": "execute_result"
    }
   ],
   "source": [
    "def highlight_col(x):\n",
    "    model_color = 'background-color: lightgreen'\n",
    "    alt_color = ['background-color: lightblue','background-color: lightyellow']\n",
    "    \n",
    "    df1 = pd.DataFrame('', index=x.index, columns=x.columns)  \n",
    "    df1.iloc[:, 0] = model_color\n",
    "    for k in range (1,df.shape[1],2):\n",
    "        df1.iloc[:,k:k+2] = alt_color[(k//2)%2] \n",
    "    return df1 \n",
    "   \n",
    "df_results.style.apply(highlight_col, axis=None)"
   ]
  },
  {
   "cell_type": "markdown",
   "metadata": {},
   "source": [
    "## Hyperparameter Tunning"
   ]
  },
  {
   "cell_type": "markdown",
   "metadata": {},
   "source": [
    "DecisionTreeClassifier"
   ]
  },
  {
   "cell_type": "code",
   "execution_count": 112,
   "metadata": {},
   "outputs": [
    {
     "data": {
      "text/plain": [
       "{'criterion': 'entropy',\n",
       " 'max_depth': 16,\n",
       " 'max_features': 9,\n",
       " 'min_samples_leaf': 1,\n",
       " 'min_samples_split': 5}"
      ]
     },
     "execution_count": 112,
     "metadata": {},
     "output_type": "execute_result"
    }
   ],
   "source": [
    "dt_model = DecisionTreeClassifier()\n",
    "\n",
    "param_grid = {\n",
    "    'max_depth': [7,11,12,15,16,20,None],\n",
    "    'min_samples_split': [2, 5, 10, 0.1, 0.2, 0.5],\n",
    "    'min_samples_leaf': [1, 2, 4],\n",
    "    'max_features': [9],\n",
    "    'criterion': ['gini', 'entropy']\n",
    "}\n",
    "\n",
    "grid_search = GridSearchCV(estimator=dt_model, param_grid=param_grid, cv=5, scoring='accuracy', n_jobs=-1)\n",
    "grid_search.fit(X_train, y_train, )\n",
    "\n",
    "grid_search.best_params_"
   ]
  },
  {
   "cell_type": "code",
   "execution_count": 113,
   "metadata": {},
   "outputs": [],
   "source": [
    "best_dt = grid_search.best_estimator_"
   ]
  },
  {
   "cell_type": "code",
   "execution_count": 114,
   "metadata": {},
   "outputs": [],
   "source": [
    "classifiers = {\n",
    "    'best_DT' : best_dt,\n",
    "}"
   ]
  },
  {
   "cell_type": "code",
   "execution_count": 117,
   "metadata": {},
   "outputs": [
    {
     "name": "stdout",
     "output_type": "stream",
     "text": [
      "best_DT ...\n"
     ]
    },
    {
     "data": {
      "text/html": [
       "<style type=\"text/css\">\n",
       "#T_c645c_row0_col0 {\n",
       "  background-color: lightgreen;\n",
       "}\n",
       "#T_c645c_row0_col1, #T_c645c_row0_col2, #T_c645c_row0_col5, #T_c645c_row0_col6, #T_c645c_row0_col9, #T_c645c_row0_col10 {\n",
       "  background-color: lightblue;\n",
       "}\n",
       "#T_c645c_row0_col3, #T_c645c_row0_col4, #T_c645c_row0_col7, #T_c645c_row0_col8 {\n",
       "  background-color: lightyellow;\n",
       "}\n",
       "</style>\n",
       "<table id=\"T_c645c\">\n",
       "  <thead>\n",
       "    <tr>\n",
       "      <th class=\"blank level0\" >&nbsp;</th>\n",
       "      <th id=\"T_c645c_level0_col0\" class=\"col_heading level0 col0\" >Model</th>\n",
       "      <th id=\"T_c645c_level0_col1\" class=\"col_heading level0 col1\" >train_accuracy</th>\n",
       "      <th id=\"T_c645c_level0_col2\" class=\"col_heading level0 col2\" >test_accuracy</th>\n",
       "      <th id=\"T_c645c_level0_col3\" class=\"col_heading level0 col3\" >train_precision</th>\n",
       "      <th id=\"T_c645c_level0_col4\" class=\"col_heading level0 col4\" >test_precision</th>\n",
       "      <th id=\"T_c645c_level0_col5\" class=\"col_heading level0 col5\" >train_recall</th>\n",
       "      <th id=\"T_c645c_level0_col6\" class=\"col_heading level0 col6\" >test_recall</th>\n",
       "      <th id=\"T_c645c_level0_col7\" class=\"col_heading level0 col7\" >train_f1</th>\n",
       "      <th id=\"T_c645c_level0_col8\" class=\"col_heading level0 col8\" >test_f1</th>\n",
       "      <th id=\"T_c645c_level0_col9\" class=\"col_heading level0 col9\" >train_roc_auc</th>\n",
       "      <th id=\"T_c645c_level0_col10\" class=\"col_heading level0 col10\" >test_roc_auc</th>\n",
       "    </tr>\n",
       "  </thead>\n",
       "  <tbody>\n",
       "    <tr>\n",
       "      <th id=\"T_c645c_level0_row0\" class=\"row_heading level0 row0\" >0</th>\n",
       "      <td id=\"T_c645c_row0_col0\" class=\"data row0 col0\" >best_DT</td>\n",
       "      <td id=\"T_c645c_row0_col1\" class=\"data row0 col1\" >0.924920</td>\n",
       "      <td id=\"T_c645c_row0_col2\" class=\"data row0 col2\" >0.729927</td>\n",
       "      <td id=\"T_c645c_row0_col3\" class=\"data row0 col3\" >0.948092</td>\n",
       "      <td id=\"T_c645c_row0_col4\" class=\"data row0 col4\" >0.758437</td>\n",
       "      <td id=\"T_c645c_row0_col5\" class=\"data row0 col5\" >0.909749</td>\n",
       "      <td id=\"T_c645c_row0_col6\" class=\"data row0 col6\" >0.727428</td>\n",
       "      <td id=\"T_c645c_row0_col7\" class=\"data row0 col7\" >0.928525</td>\n",
       "      <td id=\"T_c645c_row0_col8\" class=\"data row0 col8\" >0.742609</td>\n",
       "      <td id=\"T_c645c_row0_col9\" class=\"data row0 col9\" >0.926099</td>\n",
       "      <td id=\"T_c645c_row0_col10\" class=\"data row0 col10\" >0.730119</td>\n",
       "    </tr>\n",
       "  </tbody>\n",
       "</table>\n"
      ],
      "text/plain": [
       "<pandas.io.formats.style.Styler at 0x19f45757710>"
      ]
     },
     "execution_count": 117,
     "metadata": {},
     "output_type": "execute_result"
    }
   ],
   "source": [
    "df_results = generate_metrics()\n",
    "df_results.style.apply(highlight_col, axis=None)"
   ]
  },
  {
   "cell_type": "markdown",
   "metadata": {},
   "source": [
    "## Save Best Model"
   ]
  },
  {
   "cell_type": "markdown",
   "metadata": {},
   "source": [
    "### KNN(3)"
   ]
  },
  {
   "cell_type": "code",
   "execution_count": 118,
   "metadata": {},
   "outputs": [],
   "source": [
    "import joblib"
   ]
  },
  {
   "cell_type": "code",
   "execution_count": 93,
   "metadata": {},
   "outputs": [],
   "source": [
    "#joblib.dump(knn3_model,f\"{ROOT}/output/tic-tac-toe-model-data.joblib\")"
   ]
  },
  {
   "cell_type": "code",
   "execution_count": 119,
   "metadata": {},
   "outputs": [
    {
     "data": {
      "text/plain": [
       "['.//output/tic-tac-toe-model-data2.joblib']"
      ]
     },
     "execution_count": 119,
     "metadata": {},
     "output_type": "execute_result"
    }
   ],
   "source": [
    "joblib.dump(best_dt,f\"{ROOT}/output/tic-tac-toe-model-data2.joblib\")"
   ]
  }
 ],
 "metadata": {
  "kernelspec": {
   "display_name": "Python 3",
   "language": "python",
   "name": "python3"
  },
  "language_info": {
   "codemirror_mode": {
    "name": "ipython",
    "version": 3
   },
   "file_extension": ".py",
   "mimetype": "text/x-python",
   "name": "python",
   "nbconvert_exporter": "python",
   "pygments_lexer": "ipython3",
   "version": "3.11.4"
  },
  "orig_nbformat": 4
 },
 "nbformat": 4,
 "nbformat_minor": 2
}
