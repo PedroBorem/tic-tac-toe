{
 "cells": [
  {
   "cell_type": "markdown",
   "metadata": {},
   "source": [
    "# 02 - EDA   "
   ]
  },
  {
   "cell_type": "markdown",
   "metadata": {},
   "source": [
    "## Setup"
   ]
  },
  {
   "cell_type": "code",
   "execution_count": 280,
   "metadata": {},
   "outputs": [],
   "source": [
    "import pandas as pd\n",
    "import numpy as np\n",
    "import matplotlib.pyplot as plt\n",
    "import seaborn as sns\n",
    "\n",
    "from IPython.display import display, Markdown\n",
    "\n",
    "sns.set(style=\"darkgrid\")\n",
    "pd.set_option('display.max_columns', None)  \n",
    "\n",
    "import sys, os, yaml\n",
    "\n",
    "DATASET = \"Tic-Tac-Toe\"\n",
    "COLAB = 'google.colab' in sys.modules\n",
    "\n",
    "DEBUG = False\n",
    "SEED = 666"
   ]
  },
  {
   "cell_type": "code",
   "execution_count": 281,
   "metadata": {},
   "outputs": [],
   "source": [
    "COLAB = 'google.colab' in sys.modules\n",
    "\n",
    "if COLAB:\n",
    "  from google.colab import drive\n",
    "  if not os.path.isdir(\"/content/gdrive\"):\n",
    "    drive.mount(\"/content/gdrive\")\n",
    "    d = \"/content/gdrive/MyDrive/datasets\"\n",
    "    if not os.path.isdir(ROOT+d): os.makedirs(ROOT+d)\n",
    "  ROOT = f\"/content/gdrive/MyDrive/datasets/{DATASET.replace(' ','_')}/\"\n",
    "  if not os.path.isdir(ROOT): os.makedirs(ROOT)\n",
    "else:\n",
    "  ROOT = \"./\"\n",
    "\n",
    "def makedirs(d):\n",
    "  if COLAB:\n",
    "    if not os.path.isdir(ROOT+d): os.makedirs(ROOT+d)\n",
    "  else:\n",
    "    if not os.path.isdir(ROOT+d): os.makedirs(ROOT+d, mode=0o777, exist_ok=True)\n",
    "\n",
    "for d in ['orig','data','output']: makedirs(d)"
   ]
  },
  {
   "cell_type": "markdown",
   "metadata": {},
   "source": [
    "## Load Dataset"
   ]
  },
  {
   "cell_type": "code",
   "execution_count": 282,
   "metadata": {},
   "outputs": [
    {
     "name": "stdout",
     "output_type": "stream",
     "text": [
      "(958, 10)\n"
     ]
    },
    {
     "data": {
      "text/html": [
       "<div>\n",
       "<style scoped>\n",
       "    .dataframe tbody tr th:only-of-type {\n",
       "        vertical-align: middle;\n",
       "    }\n",
       "\n",
       "    .dataframe tbody tr th {\n",
       "        vertical-align: top;\n",
       "    }\n",
       "\n",
       "    .dataframe thead th {\n",
       "        text-align: right;\n",
       "    }\n",
       "</style>\n",
       "<table border=\"1\" class=\"dataframe\">\n",
       "  <thead>\n",
       "    <tr style=\"text-align: right;\">\n",
       "      <th></th>\n",
       "      <th>Top-left-square</th>\n",
       "      <th>Top-middle-square</th>\n",
       "      <th>Top-right-square</th>\n",
       "      <th>Middle-left-square</th>\n",
       "      <th>Middle-middle-square</th>\n",
       "      <th>Middle-right-square</th>\n",
       "      <th>Bottom-left-square</th>\n",
       "      <th>Bottom-middle-square</th>\n",
       "      <th>Bottom-right-square</th>\n",
       "      <th>Score</th>\n",
       "    </tr>\n",
       "  </thead>\n",
       "  <tbody>\n",
       "    <tr>\n",
       "      <th>0</th>\n",
       "      <td>1</td>\n",
       "      <td>1</td>\n",
       "      <td>1</td>\n",
       "      <td>1</td>\n",
       "      <td>-1</td>\n",
       "      <td>-1</td>\n",
       "      <td>1</td>\n",
       "      <td>-1</td>\n",
       "      <td>-1</td>\n",
       "      <td>1</td>\n",
       "    </tr>\n",
       "    <tr>\n",
       "      <th>1</th>\n",
       "      <td>1</td>\n",
       "      <td>1</td>\n",
       "      <td>1</td>\n",
       "      <td>1</td>\n",
       "      <td>-1</td>\n",
       "      <td>-1</td>\n",
       "      <td>-1</td>\n",
       "      <td>1</td>\n",
       "      <td>-1</td>\n",
       "      <td>1</td>\n",
       "    </tr>\n",
       "    <tr>\n",
       "      <th>2</th>\n",
       "      <td>1</td>\n",
       "      <td>1</td>\n",
       "      <td>1</td>\n",
       "      <td>1</td>\n",
       "      <td>-1</td>\n",
       "      <td>-1</td>\n",
       "      <td>-1</td>\n",
       "      <td>-1</td>\n",
       "      <td>1</td>\n",
       "      <td>1</td>\n",
       "    </tr>\n",
       "    <tr>\n",
       "      <th>3</th>\n",
       "      <td>1</td>\n",
       "      <td>1</td>\n",
       "      <td>1</td>\n",
       "      <td>1</td>\n",
       "      <td>-1</td>\n",
       "      <td>-1</td>\n",
       "      <td>-1</td>\n",
       "      <td>0</td>\n",
       "      <td>0</td>\n",
       "      <td>1</td>\n",
       "    </tr>\n",
       "    <tr>\n",
       "      <th>4</th>\n",
       "      <td>1</td>\n",
       "      <td>1</td>\n",
       "      <td>1</td>\n",
       "      <td>1</td>\n",
       "      <td>-1</td>\n",
       "      <td>-1</td>\n",
       "      <td>0</td>\n",
       "      <td>-1</td>\n",
       "      <td>0</td>\n",
       "      <td>1</td>\n",
       "    </tr>\n",
       "  </tbody>\n",
       "</table>\n",
       "</div>"
      ],
      "text/plain": [
       "  Top-left-square Top-middle-square Top-right-square Middle-left-square  \\\n",
       "0               1                 1                1                  1   \n",
       "1               1                 1                1                  1   \n",
       "2               1                 1                1                  1   \n",
       "3               1                 1                1                  1   \n",
       "4               1                 1                1                  1   \n",
       "\n",
       "  Middle-middle-square Middle-right-square Bottom-left-square  \\\n",
       "0                   -1                  -1                  1   \n",
       "1                   -1                  -1                 -1   \n",
       "2                   -1                  -1                 -1   \n",
       "3                   -1                  -1                 -1   \n",
       "4                   -1                  -1                  0   \n",
       "\n",
       "  Bottom-middle-square Bottom-right-square Score  \n",
       "0                   -1                  -1     1  \n",
       "1                    1                  -1     1  \n",
       "2                   -1                   1     1  \n",
       "3                    0                   0     1  \n",
       "4                   -1                   0     1  "
      ]
     },
     "execution_count": 282,
     "metadata": {},
     "output_type": "execute_result"
    }
   ],
   "source": [
    "df = pd.read_pickle(f\"{ROOT}/data/data.pkl\")\n",
    "print(df.shape)\n",
    "df.head()"
   ]
  },
  {
   "cell_type": "markdown",
   "metadata": {},
   "source": [
    "# EDA "
   ]
  },
  {
   "cell_type": "code",
   "execution_count": 283,
   "metadata": {},
   "outputs": [],
   "source": [
    "target = \"Score\"\n",
    "cat_features = [c for c in df.select_dtypes(\"category\").columns if c!= target]"
   ]
  },
  {
   "cell_type": "code",
   "execution_count": 284,
   "metadata": {},
   "outputs": [
    {
     "data": {
      "text/plain": [
       "Score\n",
       "1     0.653445\n",
       "-1    0.346555\n",
       "Name: proportion, dtype: float64"
      ]
     },
     "execution_count": 284,
     "metadata": {},
     "output_type": "execute_result"
    }
   ],
   "source": [
    "df[target].value_counts(normalize=True)"
   ]
  },
  {
   "cell_type": "code",
   "execution_count": 285,
   "metadata": {},
   "outputs": [
    {
     "name": "stdout",
     "output_type": "stream",
     "text": [
      "<class 'pandas.core.frame.DataFrame'>\n",
      "RangeIndex: 958 entries, 0 to 957\n",
      "Data columns (total 10 columns):\n",
      " #   Column                Non-Null Count  Dtype   \n",
      "---  ------                --------------  -----   \n",
      " 0   Top-left-square       958 non-null    category\n",
      " 1   Top-middle-square     958 non-null    category\n",
      " 2   Top-right-square      958 non-null    category\n",
      " 3   Middle-left-square    958 non-null    category\n",
      " 4   Middle-middle-square  958 non-null    category\n",
      " 5   Middle-right-square   958 non-null    category\n",
      " 6   Bottom-left-square    958 non-null    category\n",
      " 7   Bottom-middle-square  958 non-null    category\n",
      " 8   Bottom-right-square   958 non-null    category\n",
      " 9   Score                 958 non-null    category\n",
      "dtypes: category(10)\n",
      "memory usage: 9.7 KB\n"
     ]
    }
   ],
   "source": [
    "df.info()"
   ]
  },
  {
   "cell_type": "markdown",
   "metadata": {},
   "source": [
    "checando se todas as linhas do dataset respeitam a regra do # (verificando se há incosistência nos dados)\n",
    "\n",
    "- O número de `X` num dado Estado seria um a mais ou igual ao número de `O` colocado no tabuleiro.\n",
    "\n",
    "como X = 1 e O = -1, a soma nos da a diferença dos módulos."
   ]
  },
  {
   "cell_type": "code",
   "execution_count": 286,
   "metadata": {},
   "outputs": [
    {
     "data": {
      "text/plain": [
       "0"
      ]
     },
     "execution_count": 286,
     "metadata": {},
     "output_type": "execute_result"
    }
   ],
   "source": [
    "row_sums = df[cat_features].astype(\"int\").sum(axis=1)\n",
    "result = (row_sums < 0) | (row_sums > 1)\n",
    "result.sum()"
   ]
  },
  {
   "cell_type": "markdown",
   "metadata": {},
   "source": [
    "Sem dados inconsistentes. Dataset já está limpo"
   ]
  },
  {
   "cell_type": "markdown",
   "metadata": {},
   "source": [
    "procurando por simetrias"
   ]
  },
  {
   "cell_type": "code",
   "execution_count": 287,
   "metadata": {},
   "outputs": [
    {
     "name": "stdout",
     "output_type": "stream",
     "text": [
      "Symmetry position found at index 680\n",
      "Symmetry position found at index 682\n"
     ]
    }
   ],
   "source": [
    "# Pattern to search\n",
    "pattern = [1,-1,1,-1,-1,-1,1,1,0]\n",
    "\n",
    "# Reshape the pattern to a 3x3 matrix for comparison\n",
    "pattern_matrix = np.array(pattern).reshape(3, 3)\n",
    "\n",
    "# Iterate through the DataFrame and check for symmetry positions\n",
    "for index, row in df.iterrows():\n",
    "    # Extract the values from the DataFrame row\n",
    "    row_values = row[:-1].values\n",
    "    \n",
    "    # Reshape the row values to a 3x3 matrix for comparison\n",
    "    row_matrix = np.array(row_values).reshape(3, 3)\n",
    "    \n",
    "    # Check if the row matrix is a symmetry position of the pattern\n",
    "    if np.array_equal(row_matrix, pattern_matrix) or np.array_equal(np.fliplr(row_matrix), pattern_matrix):\n",
    "        print(f\"Symmetry position found at index {index}\")\n"
   ]
  },
  {
   "cell_type": "markdown",
   "metadata": {},
   "source": [
    "- possui simetrias"
   ]
  },
  {
   "cell_type": "markdown",
   "metadata": {},
   "source": [
    "Verificando a diversidades de posições, se há jogos inacabados ou apenas jogos com resultado final"
   ]
  },
  {
   "cell_type": "code",
   "execution_count": 288,
   "metadata": {},
   "outputs": [],
   "source": [
    "def is_winnerrr(board, player):\n",
    "    # Check rows, columns, and diagonals for a win\n",
    "    for i in range(3):\n",
    "        if all(board[i][j] == player for j in range(3)) or all(board[j][i] == player for j in range(3)):\n",
    "            return True\n",
    "    if all(board[i][i] == player for i in range(3)) or all(board[i][2 - i] == player for i in range(3)):\n",
    "        return True\n",
    "    return False\n",
    "\n",
    "def is_drawww(board):\n",
    "    # Check if the board is full and no one has won\n",
    "    return all(board[i][j] != 0 for i in range(3) for j in range(3)) and not is_winnerrr(board, 1) and not is_winnerrr(board, -1)\n",
    "\n",
    "def evaluate(board):\n",
    "    if is_winnerrr(board, 1):\n",
    "        return 1  # 'X' wins\n",
    "    elif is_winnerrr(board, -1):\n",
    "        return -1  # 'O' wins\n",
    "    elif is_drawww(board):\n",
    "        return 0  # It's a draw\n",
    "    else:\n",
    "        return 666\n",
    "    \n",
    "# Function to convert DataFrame row to a 3x3 matrix\n",
    "def row_to_matrix(row):\n",
    "    return np.array(row[:].values).reshape(3, 3)\n",
    "\n",
    "def check_end_games(df):\n",
    "    not_finished = []\n",
    "    for index, row in df[cat_features].iterrows():\n",
    "        board_matrix = row_to_matrix(row)\n",
    "        position_score = evaluate(board_matrix)\n",
    "        if position_score > 1:\n",
    "            not_finished.append(index)\n",
    "    \n",
    "    return len(not_finished)"
   ]
  },
  {
   "cell_type": "code",
   "execution_count": 289,
   "metadata": {},
   "outputs": [
    {
     "data": {
      "text/plain": [
       "0"
      ]
     },
     "execution_count": 289,
     "metadata": {},
     "output_type": "execute_result"
    }
   ],
   "source": [
    "check_end_games(df)"
   ]
  },
  {
   "cell_type": "markdown",
   "metadata": {},
   "source": [
    "não há jogos inacabados"
   ]
  },
  {
   "cell_type": "markdown",
   "metadata": {},
   "source": [
    "#### Saving"
   ]
  },
  {
   "cell_type": "markdown",
   "metadata": {},
   "source": [
    "Salvando o dataframe como Pickle, pois é uma maneira serializada de armazenar um dataframe Pandas. Basicamente, você está anotando a representação exata do dataframe no disco. \n",
    "- mais rápido\n",
    "- menos pesado\n",
    "- não possibilita \"leitura humana\", e por isso, como mais adiante fizemos uma análise mais aprofundada nos dados, salvamos também como .csv para leitura. Mas não haveria necessidade."
   ]
  },
  {
   "cell_type": "code",
   "execution_count": 290,
   "metadata": {},
   "outputs": [],
   "source": [
    "df[cat_features] = df[cat_features].astype(\"category\")"
   ]
  },
  {
   "cell_type": "code",
   "execution_count": 291,
   "metadata": {},
   "outputs": [],
   "source": [
    "df.to_pickle(f\"{ROOT}/data/data.pkl\")\n",
    "df.to_csv(f\"{ROOT}/data/data.csv\")"
   ]
  },
  {
   "cell_type": "code",
   "execution_count": 292,
   "metadata": {},
   "outputs": [],
   "source": [
    "df2 = df.copy()"
   ]
  },
  {
   "cell_type": "markdown",
   "metadata": {},
   "source": [
    "# Nossa análise e abordagem sobre o dataset"
   ]
  },
  {
   "cell_type": "markdown",
   "metadata": {},
   "source": [
    "## Comments"
   ]
  },
  {
   "cell_type": "markdown",
   "metadata": {},
   "source": [
    "[Pedro] Quando vi pela primeira vez o dataset me estranhou um pouco o tamanho. Após terminar o projeto e percerber que na verdade \"todas as possibilidades\", na verdade não eram todas, pois algumas posições não estavam consideradas no dataset.\n",
    "\n",
    "Dado isso, fui pesquisar de onde viria um valor tão pequeno, então encontrei uma pesquisa sobre quantas posições existem no Jogo da Velha http://www.se16.info/hgb/tictactoe.htm que me levou a https://www.egr.msu.edu/~kdeb/papers/k2007002.pdf . Então pude entender que estavam considerando a simetria das posições e \"enxutando\" o dataset... \n",
    "\n",
    "E com uma segunda análise ao Dataset proposto no projeto, percebi que não estavam considerando posições \"early stage\", e sim estados com pelo menos 5 jogadas já feitas.\n",
    "\n",
    "dado isso resolvi fazer o treino com um dataset menos \"enxuto\".\n",
    "\n",
    "Segui os seguintes passos:\n",
    "\n",
    "- me preocupei em gerar as posições como comentado em http://www.se16.info/hgb/tictactoe.htm \n",
    "\n",
    "- apliquei as regras de existência (a) e (b) comentadas em https://www.egr.msu.edu/~kdeb/papers/k2007002.pdf\n",
    "\n",
    "- Para o Score, avaliei cada posição com o algoritmo MinMax (https://www.geeksforgeeks.org/finding-optimal-move-in-tic-tac-toe-using-minimax-algorithm-in-game-theory/), que avalia a posição considerando jogadas ótimas de X e O até o final.\n",
    "\n",
    "o resultado foi um dataset maior e com mais posições de inicio de jogo e quase nenhum final, tendo em vista que MinMax já enxerga a vitória ou derrota garantidas algumas jogadas antes.\n",
    "Para contornar esse problema, que iria impactar negativamente no treino do nosso classificador, uni o útil ao agradável, concatenei os dois datasets e apaguei duplicatas."
   ]
  },
  {
   "cell_type": "code",
   "execution_count": 293,
   "metadata": {},
   "outputs": [
    {
     "name": "stdout",
     "output_type": "stream",
     "text": [
      "(4536, 10)\n"
     ]
    },
    {
     "data": {
      "text/html": [
       "<div>\n",
       "<style scoped>\n",
       "    .dataframe tbody tr th:only-of-type {\n",
       "        vertical-align: middle;\n",
       "    }\n",
       "\n",
       "    .dataframe tbody tr th {\n",
       "        vertical-align: top;\n",
       "    }\n",
       "\n",
       "    .dataframe thead th {\n",
       "        text-align: right;\n",
       "    }\n",
       "</style>\n",
       "<table border=\"1\" class=\"dataframe\">\n",
       "  <thead>\n",
       "    <tr style=\"text-align: right;\">\n",
       "      <th></th>\n",
       "      <th>Top-left-square</th>\n",
       "      <th>Top-middle-square</th>\n",
       "      <th>Top-right-square</th>\n",
       "      <th>Middle-left-square</th>\n",
       "      <th>Middle-middle-square</th>\n",
       "      <th>Middle-right-square</th>\n",
       "      <th>Bottom-left-square</th>\n",
       "      <th>Bottom-middle-square</th>\n",
       "      <th>Bottom-right-square</th>\n",
       "      <th>Score</th>\n",
       "    </tr>\n",
       "  </thead>\n",
       "  <tbody>\n",
       "    <tr>\n",
       "      <th>0</th>\n",
       "      <td>1</td>\n",
       "      <td>-1</td>\n",
       "      <td>1</td>\n",
       "      <td>1</td>\n",
       "      <td>0</td>\n",
       "      <td>0</td>\n",
       "      <td>0</td>\n",
       "      <td>0</td>\n",
       "      <td>-1</td>\n",
       "      <td>-1</td>\n",
       "    </tr>\n",
       "    <tr>\n",
       "      <th>1</th>\n",
       "      <td>1</td>\n",
       "      <td>1</td>\n",
       "      <td>-1</td>\n",
       "      <td>0</td>\n",
       "      <td>-1</td>\n",
       "      <td>-1</td>\n",
       "      <td>1</td>\n",
       "      <td>-1</td>\n",
       "      <td>1</td>\n",
       "      <td>1</td>\n",
       "    </tr>\n",
       "    <tr>\n",
       "      <th>2</th>\n",
       "      <td>0</td>\n",
       "      <td>1</td>\n",
       "      <td>0</td>\n",
       "      <td>0</td>\n",
       "      <td>0</td>\n",
       "      <td>0</td>\n",
       "      <td>1</td>\n",
       "      <td>-1</td>\n",
       "      <td>0</td>\n",
       "      <td>-1</td>\n",
       "    </tr>\n",
       "    <tr>\n",
       "      <th>3</th>\n",
       "      <td>1</td>\n",
       "      <td>0</td>\n",
       "      <td>-1</td>\n",
       "      <td>1</td>\n",
       "      <td>0</td>\n",
       "      <td>0</td>\n",
       "      <td>0</td>\n",
       "      <td>0</td>\n",
       "      <td>0</td>\n",
       "      <td>1</td>\n",
       "    </tr>\n",
       "    <tr>\n",
       "      <th>4</th>\n",
       "      <td>-1</td>\n",
       "      <td>1</td>\n",
       "      <td>-1</td>\n",
       "      <td>-1</td>\n",
       "      <td>1</td>\n",
       "      <td>-1</td>\n",
       "      <td>1</td>\n",
       "      <td>0</td>\n",
       "      <td>1</td>\n",
       "      <td>1</td>\n",
       "    </tr>\n",
       "  </tbody>\n",
       "</table>\n",
       "</div>"
      ],
      "text/plain": [
       "  Top-left-square Top-middle-square Top-right-square Middle-left-square  \\\n",
       "0               1                -1                1                  1   \n",
       "1               1                 1               -1                  0   \n",
       "2               0                 1                0                  0   \n",
       "3               1                 0               -1                  1   \n",
       "4              -1                 1               -1                 -1   \n",
       "\n",
       "  Middle-middle-square Middle-right-square Bottom-left-square  \\\n",
       "0                    0                   0                  0   \n",
       "1                   -1                  -1                  1   \n",
       "2                    0                   0                  1   \n",
       "3                    0                   0                  0   \n",
       "4                    1                  -1                  1   \n",
       "\n",
       "  Bottom-middle-square Bottom-right-square Score  \n",
       "0                    0                  -1    -1  \n",
       "1                   -1                   1     1  \n",
       "2                   -1                   0    -1  \n",
       "3                    0                   0     1  \n",
       "4                    0                   1     1  "
      ]
     },
     "execution_count": 293,
     "metadata": {},
     "output_type": "execute_result"
    }
   ],
   "source": [
    "# [Partes do código abaixo foi gerado com ChatGPT]\n",
    "\"\"\"\n",
    "def is_winner(board, player):\n",
    "    # Check rows, columns, and diagonals for a win\n",
    "    for i in range(3):\n",
    "        if all(board[i][j] == player for j in range(3)) or all(board[j][i] == player for j in range(3)):\n",
    "            return True\n",
    "    if all(board[i][i] == player for i in range(3)) or all(board[i][2 - i] == player for i in range(3)):\n",
    "        return True\n",
    "    return False\n",
    "\n",
    "def is_draw(board):\n",
    "    # Check if the board is full and no one has won\n",
    "    return all(board[i][j] != 'b' for i in range(3) for j in range(3)) and not is_winner(board, 'X') and not is_winner(board, 'O')\n",
    "\n",
    "def evaluate_position(board, player):\n",
    "    if is_winner(board, 'X'):\n",
    "        return 1  # 'X' wins\n",
    "    elif is_winner(board, 'O'):\n",
    "        return -1  # 'O' wins\n",
    "    elif is_draw(board):\n",
    "        return 0  # It's a draw\n",
    "\n",
    "    if player == 'X':\n",
    "        max_eval = float('-inf')\n",
    "        for i in range(3):\n",
    "            for j in range(3):\n",
    "                if board[i][j] == 'b':\n",
    "                    board[i][j] = 'X'\n",
    "                    eval = evaluate_position(board, 'O')\n",
    "                    board[i][j] = 'b'  # Undo the move\n",
    "                    max_eval = max(max_eval, eval)\n",
    "        return max_eval\n",
    "    else:\n",
    "        min_eval = float('inf')\n",
    "        for i in range(3):\n",
    "            for j in range(3):\n",
    "                if board[i][j] == 'b':\n",
    "                    board[i][j] = 'O'\n",
    "                    eval = evaluate_position(board, 'X')\n",
    "                    board[i][j] = 'b'  # Undo the move\n",
    "                    min_eval = min(min_eval, eval)\n",
    "        return min_eval\n",
    "\n",
    "def generate_positions():\n",
    "    board = [['b'] * 3 for _ in range(3)]\n",
    "    positions = set()\n",
    "\n",
    "    def generate_moves(player, moves):\n",
    "        nonlocal positions\n",
    "        flattened_position = tuple(item for sublist in board for item in sublist)\n",
    "\n",
    "        # Check rule (a): The number of 'X' in any given state would be either one more than or equal to the number of 'O' placed on the board.\n",
    "        count_x = sum(row.count('X') for row in board)\n",
    "        count_o = sum(row.count('O') for row in board)\n",
    "        if not (count_x >= count_o):\n",
    "            return  # Skip this position if rule (a) is violated\n",
    "\n",
    "        # Check rule (b): Either player would not move if the other has won.\n",
    "        if (player == 'X' and is_winner(board, 'O')) or (player == 'O' and is_winner(board, 'X')):\n",
    "            return  # Skip this position if rule (b) is violated\n",
    "\n",
    "        score = evaluate_position(board, player)\n",
    "        positions.add(flattened_position + (score,))\n",
    "\n",
    "        if moves < 9:\n",
    "            for i in range(3):\n",
    "                for j in range(3):\n",
    "                    if board[i][j] == 'b':\n",
    "                        board[i][j] = player\n",
    "                        generate_moves('O' if player == 'X' else 'X', moves + 1)\n",
    "                        board[i][j] = 'b'\n",
    "\n",
    "    # Adjust the depth parameter based on your desired exploration depth\n",
    "    generate_moves('X', 0)\n",
    "\n",
    "    \n",
    "    # Convert set of tuples to a list and sort for consistency\n",
    "    positions = list(positions)\n",
    "    \n",
    "    return positions\n",
    "\n",
    "\n",
    "all_positions = generate_positions()\n",
    "\n",
    "# Create a DataFrame with flattened positions and a \"Score\" column\n",
    "df = pd.DataFrame(all_positions, columns=[\n",
    "    'Top-left-square', 'Top-middle-square', 'Top-right-square',\n",
    "    'Middle-left-square', 'Middle-middle-square', 'Middle-right-square',\n",
    "    'Bottom-left-square', 'Bottom-middle-square', 'Bottom-right-square',\n",
    "    'Score'\n",
    "])\n",
    "df[\"Score\"] = df.Score == 1\n",
    "print(df.shape)\n",
    "df.head()\n",
    "\"\"\"\n",
    "\n",
    "df = pd.read_pickle(f\"{ROOT}/data/data_2.pkl\")\n",
    "print(df.shape)\n",
    "df.head()"
   ]
  },
  {
   "cell_type": "code",
   "execution_count": 294,
   "metadata": {},
   "outputs": [
    {
     "name": "stdout",
     "output_type": "stream",
     "text": [
      "(4536, 10)\n"
     ]
    },
    {
     "data": {
      "text/html": [
       "<div>\n",
       "<style scoped>\n",
       "    .dataframe tbody tr th:only-of-type {\n",
       "        vertical-align: middle;\n",
       "    }\n",
       "\n",
       "    .dataframe tbody tr th {\n",
       "        vertical-align: top;\n",
       "    }\n",
       "\n",
       "    .dataframe thead th {\n",
       "        text-align: right;\n",
       "    }\n",
       "</style>\n",
       "<table border=\"1\" class=\"dataframe\">\n",
       "  <thead>\n",
       "    <tr style=\"text-align: right;\">\n",
       "      <th></th>\n",
       "      <th>Top-left-square</th>\n",
       "      <th>Top-middle-square</th>\n",
       "      <th>Top-right-square</th>\n",
       "      <th>Middle-left-square</th>\n",
       "      <th>Middle-middle-square</th>\n",
       "      <th>Middle-right-square</th>\n",
       "      <th>Bottom-left-square</th>\n",
       "      <th>Bottom-middle-square</th>\n",
       "      <th>Bottom-right-square</th>\n",
       "      <th>Score</th>\n",
       "    </tr>\n",
       "  </thead>\n",
       "  <tbody>\n",
       "    <tr>\n",
       "      <th>0</th>\n",
       "      <td>1</td>\n",
       "      <td>-1</td>\n",
       "      <td>1</td>\n",
       "      <td>1</td>\n",
       "      <td>0</td>\n",
       "      <td>0</td>\n",
       "      <td>0</td>\n",
       "      <td>0</td>\n",
       "      <td>-1</td>\n",
       "      <td>-1</td>\n",
       "    </tr>\n",
       "    <tr>\n",
       "      <th>1</th>\n",
       "      <td>1</td>\n",
       "      <td>1</td>\n",
       "      <td>-1</td>\n",
       "      <td>0</td>\n",
       "      <td>-1</td>\n",
       "      <td>-1</td>\n",
       "      <td>1</td>\n",
       "      <td>-1</td>\n",
       "      <td>1</td>\n",
       "      <td>1</td>\n",
       "    </tr>\n",
       "  </tbody>\n",
       "</table>\n",
       "</div>"
      ],
      "text/plain": [
       "  Top-left-square Top-middle-square Top-right-square Middle-left-square  \\\n",
       "0               1                -1                1                  1   \n",
       "1               1                 1               -1                  0   \n",
       "\n",
       "  Middle-middle-square Middle-right-square Bottom-left-square  \\\n",
       "0                    0                   0                  0   \n",
       "1                   -1                  -1                  1   \n",
       "\n",
       "  Bottom-middle-square Bottom-right-square Score  \n",
       "0                    0                  -1    -1  \n",
       "1                   -1                   1     1  "
      ]
     },
     "execution_count": 294,
     "metadata": {},
     "output_type": "execute_result"
    }
   ],
   "source": [
    "for c in df.columns:\n",
    "    if df[c].dtype == 'object':\n",
    "        df[c] = df[c].map({'X':1, 'O':-1,'b':0})\n",
    "        df[c] = df[c].astype(\"category\")\n",
    "    if df[c].dtype == 'bool':\n",
    "        df[c] = df[c].map({True: 1, False: -1})\n",
    "        df[c] = df[c].astype(\"category\")\n",
    "\n",
    "print(df.shape)\n",
    "df.head(2)"
   ]
  },
  {
   "cell_type": "code",
   "execution_count": 295,
   "metadata": {},
   "outputs": [],
   "source": [
    "#df.to_csv(f\"{ROOT}/data/data_2.csv\")\n",
    "#df.to_pickle(f\"{ROOT}/data/data_2.pkl\")"
   ]
  },
  {
   "cell_type": "code",
   "execution_count": 296,
   "metadata": {},
   "outputs": [],
   "source": [
    "target = \"Score\"\n",
    "cat_features = [c for c in df.select_dtypes(\"category\").columns if c!= target]"
   ]
  },
  {
   "cell_type": "code",
   "execution_count": 297,
   "metadata": {},
   "outputs": [
    {
     "name": "stdout",
     "output_type": "stream",
     "text": [
      "<class 'pandas.core.frame.DataFrame'>\n",
      "RangeIndex: 4536 entries, 0 to 4535\n",
      "Data columns (total 10 columns):\n",
      " #   Column                Non-Null Count  Dtype   \n",
      "---  ------                --------------  -----   \n",
      " 0   Top-left-square       4536 non-null   int32   \n",
      " 1   Top-middle-square     4536 non-null   int32   \n",
      " 2   Top-right-square      4536 non-null   int32   \n",
      " 3   Middle-left-square    4536 non-null   int32   \n",
      " 4   Middle-middle-square  4536 non-null   int32   \n",
      " 5   Middle-right-square   4536 non-null   int32   \n",
      " 6   Bottom-left-square    4536 non-null   int32   \n",
      " 7   Bottom-middle-square  4536 non-null   int32   \n",
      " 8   Bottom-right-square   4536 non-null   int32   \n",
      " 9   Score                 4536 non-null   category\n",
      "dtypes: category(1), int32(9)\n",
      "memory usage: 164.0 KB\n"
     ]
    }
   ],
   "source": [
    "df[cat_features] = df[cat_features].astype(\"int\")\n",
    "df.info()\n"
   ]
  },
  {
   "cell_type": "code",
   "execution_count": 298,
   "metadata": {},
   "outputs": [
    {
     "name": "stdout",
     "output_type": "stream",
     "text": [
      "<class 'pandas.core.frame.DataFrame'>\n",
      "RangeIndex: 958 entries, 0 to 957\n",
      "Data columns (total 10 columns):\n",
      " #   Column                Non-Null Count  Dtype   \n",
      "---  ------                --------------  -----   \n",
      " 0   Top-left-square       958 non-null    int32   \n",
      " 1   Top-middle-square     958 non-null    int32   \n",
      " 2   Top-right-square      958 non-null    int32   \n",
      " 3   Middle-left-square    958 non-null    int32   \n",
      " 4   Middle-middle-square  958 non-null    int32   \n",
      " 5   Middle-right-square   958 non-null    int32   \n",
      " 6   Bottom-left-square    958 non-null    int32   \n",
      " 7   Bottom-middle-square  958 non-null    int32   \n",
      " 8   Bottom-right-square   958 non-null    int32   \n",
      " 9   Score                 958 non-null    category\n",
      "dtypes: category(1), int32(9)\n",
      "memory usage: 34.9 KB\n"
     ]
    }
   ],
   "source": [
    "df2[cat_features] = df2[cat_features].astype(\"int\")\n",
    "df2.info()\n"
   ]
  },
  {
   "cell_type": "markdown",
   "metadata": {},
   "source": [
    "#### X´s and O´s"
   ]
  },
  {
   "cell_type": "markdown",
   "metadata": {},
   "source": [
    "Checando a ocorrência de jogadas nas posições de cada dataset"
   ]
  },
  {
   "cell_type": "code",
   "execution_count": 299,
   "metadata": {},
   "outputs": [
    {
     "name": "stdout",
     "output_type": "stream",
     "text": [
      "count    4536.000000\n",
      "mean        5.435847\n",
      "std         1.338871\n",
      "min         0.000000\n",
      "25%         5.000000\n",
      "50%         6.000000\n",
      "75%         6.000000\n",
      "max         9.000000\n",
      "dtype: float64\n"
     ]
    },
    {
     "data": {
      "image/png": "[encoded data removed]",
      "text/plain": [
       "<Figure size 640x480 with 1 Axes>"
      ]
     },
     "metadata": {},
     "output_type": "display_data"
    }
   ],
   "source": [
    "data = (df[cat_features]!=0).sum(axis=1)\n",
    "print(data.describe())\n",
    "plt.hist(data, bins=range(11))\n",
    "plt.show()"
   ]
  },
  {
   "cell_type": "code",
   "execution_count": 300,
   "metadata": {},
   "outputs": [
    {
     "name": "stdout",
     "output_type": "stream",
     "text": [
      "count    958.000000\n",
      "mean       6.933194\n",
      "std        1.073926\n",
      "min        5.000000\n",
      "25%        6.000000\n",
      "50%        7.000000\n",
      "75%        8.000000\n",
      "max        9.000000\n",
      "dtype: float64\n"
     ]
    },
    {
     "data": {
      "image/png": "[encoded data removed]",
      "text/plain": [
       "<Figure size 640x480 with 1 Axes>"
      ]
     },
     "metadata": {},
     "output_type": "display_data"
    }
   ],
   "source": [
    "data = (df2[cat_features]!=0).sum(axis=1)\n",
    "print(data.describe())\n",
    "plt.hist(data, bins=range(11))\n",
    "plt.show()"
   ]
  },
  {
   "cell_type": "markdown",
   "metadata": {},
   "source": [
    "#### Blank"
   ]
  },
  {
   "cell_type": "markdown",
   "metadata": {},
   "source": [
    "Mostrando a ocorrência de posições vazias. (equivalente ao anterior)"
   ]
  },
  {
   "cell_type": "code",
   "execution_count": 301,
   "metadata": {},
   "outputs": [
    {
     "name": "stdout",
     "output_type": "stream",
     "text": [
      "count    4536.000000\n",
      "mean        3.564153\n",
      "std         1.338871\n",
      "min         0.000000\n",
      "25%         3.000000\n",
      "50%         3.000000\n",
      "75%         4.000000\n",
      "max         9.000000\n",
      "dtype: float64\n"
     ]
    },
    {
     "data": {
      "image/png": "[encoded data removed]",
      "text/plain": [
       "<Figure size 640x480 with 1 Axes>"
      ]
     },
     "metadata": {},
     "output_type": "display_data"
    }
   ],
   "source": [
    "data = (df[cat_features]==0).sum(axis=1)\n",
    "print(data.describe())\n",
    "plt.hist(data, bins=range(11))\n",
    "plt.show()"
   ]
  },
  {
   "cell_type": "code",
   "execution_count": 302,
   "metadata": {},
   "outputs": [
    {
     "name": "stdout",
     "output_type": "stream",
     "text": [
      "count    958.000000\n",
      "mean       2.066806\n",
      "std        1.073926\n",
      "min        0.000000\n",
      "25%        1.000000\n",
      "50%        2.000000\n",
      "75%        3.000000\n",
      "max        4.000000\n",
      "dtype: float64\n"
     ]
    },
    {
     "data": {
      "image/png": "[encoded data removed]",
      "text/plain": [
       "<Figure size 640x480 with 1 Axes>"
      ]
     },
     "metadata": {},
     "output_type": "display_data"
    }
   ],
   "source": [
    "data = (df2[cat_features]==0).sum(axis=1)\n",
    "print(data.describe())\n",
    "plt.hist(data, bins=range(11))\n",
    "plt.show()"
   ]
  },
  {
   "cell_type": "markdown",
   "metadata": {},
   "source": [
    "### Concat "
   ]
  },
  {
   "cell_type": "code",
   "execution_count": 303,
   "metadata": {},
   "outputs": [],
   "source": [
    "concatenated_df = pd.concat([df, df2], axis=0, ignore_index=True)"
   ]
  },
  {
   "cell_type": "code",
   "execution_count": 304,
   "metadata": {},
   "outputs": [],
   "source": [
    "concatenated_df = concatenated_df.drop_duplicates(keep='first')"
   ]
  },
  {
   "cell_type": "markdown",
   "metadata": {},
   "source": [
    "Olhando o novo dataset, com uma distribuição melhor"
   ]
  },
  {
   "cell_type": "code",
   "execution_count": 305,
   "metadata": {},
   "outputs": [
    {
     "name": "stdout",
     "output_type": "stream",
     "text": [
      "count    5478.000000\n",
      "mean        5.687295\n",
      "std         1.406273\n",
      "min         0.000000\n",
      "25%         5.000000\n",
      "50%         6.000000\n",
      "75%         7.000000\n",
      "max         9.000000\n",
      "dtype: float64\n"
     ]
    },
    {
     "data": {
      "image/png": "[encoded data removed]",
      "text/plain": [
       "<Figure size 640x480 with 1 Axes>"
      ]
     },
     "metadata": {},
     "output_type": "display_data"
    }
   ],
   "source": [
    "data = (concatenated_df[cat_features]!=0).sum(axis=1)\n",
    "print(data.describe())\n",
    "plt.hist(data, bins=range(11))\n",
    "plt.show()"
   ]
  },
  {
   "cell_type": "code",
   "execution_count": 306,
   "metadata": {},
   "outputs": [],
   "source": [
    "for c in concatenated_df.columns:\n",
    "    if concatenated_df[c].dtype == 'int32':\n",
    "        concatenated_df[c] = concatenated_df[c].astype(\"category\")"
   ]
  },
  {
   "cell_type": "code",
   "execution_count": 307,
   "metadata": {},
   "outputs": [
    {
     "name": "stdout",
     "output_type": "stream",
     "text": [
      "<class 'pandas.core.frame.DataFrame'>\n",
      "Index: 5478 entries, 0 to 5477\n",
      "Data columns (total 10 columns):\n",
      " #   Column                Non-Null Count  Dtype   \n",
      "---  ------                --------------  -----   \n",
      " 0   Top-left-square       5478 non-null   category\n",
      " 1   Top-middle-square     5478 non-null   category\n",
      " 2   Top-right-square      5478 non-null   category\n",
      " 3   Middle-left-square    5478 non-null   category\n",
      " 4   Middle-middle-square  5478 non-null   category\n",
      " 5   Middle-right-square   5478 non-null   category\n",
      " 6   Bottom-left-square    5478 non-null   category\n",
      " 7   Bottom-middle-square  5478 non-null   category\n",
      " 8   Bottom-right-square   5478 non-null   category\n",
      " 9   Score                 5478 non-null   category\n",
      "dtypes: category(10)\n",
      "memory usage: 97.3 KB\n"
     ]
    }
   ],
   "source": [
    "concatenated_df.info()"
   ]
  },
  {
   "cell_type": "code",
   "execution_count": 308,
   "metadata": {},
   "outputs": [],
   "source": [
    "#concatenated_df.to_pickle(f\"{ROOT}/data/data_3.pkl\")"
   ]
  }
 ],
 "metadata": {
  "kernelspec": {
   "display_name": "Python 3",
   "language": "python",
   "name": "python3"
  },
  "language_info": {
   "codemirror_mode": {
    "name": "ipython",
    "version": 3
   },
   "file_extension": ".py",
   "mimetype": "text/x-python",
   "name": "python",
   "nbconvert_exporter": "python",
   "pygments_lexer": "ipython3",
   "version": "3.11.4"
  },
  "orig_nbformat": 4
 },
 "nbformat": 4,
 "nbformat_minor": 2
}
